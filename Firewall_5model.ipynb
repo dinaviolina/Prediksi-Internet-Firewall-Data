{
 "cells": [
  {
   "cell_type": "markdown",
   "metadata": {
    "id": "uzyQQdWGf6j-"
   },
   "source": [
    "Project setelah UTS\n",
    "\n",
    "# Klasifikasi Firewall\n",
    "\n",
    "Nama : Dina Violina\n",
    "\n",
    "NIM : 210411100004\n",
    "\n",
    "Kelas : Proyek Sains Data (B)"
   ]
  },
  {
   "cell_type": "markdown",
   "metadata": {
    "id": "5Z9lv7hgxtuq"
   },
   "source": [
    "## 1. Business Understanding"
   ]
  },
  {
   "cell_type": "markdown",
   "metadata": {
    "id": "RjKJtPbNes5p"
   },
   "source": [
    "Tujuan :\n",
    "\n",
    "Untuk melakukan klasifikasi prediksi jaringan data yang dikirim dari jaringan komputer, outputnya 4 yaitu allow\" yang berarti diizinkan, \"deny\" berarti ditolak, \"drop\" berarti dibuang, \"reset-both\" berati setel ulang. Sehingga hasil dari klasifikasi ini akan mengidentifikasi prediksi sebuah jaringan firewall tersebut memiliki reaksi action apa.\n",
    "\n",
    "Untuk menentukan prediksi firewall harus mengetahui ciri-ciri sebagai berikut :\n",
    "- Source Port\n",
    "- Destination Port\n",
    "- NAT source port\n",
    "- Bytes\n",
    "- Bytes sent \n",
    "- Bytes Received\n",
    "- Packets\n",
    "- Elapsed Time (sec)\n",
    "- pkts_sent \n",
    "- pkts_received "
   ]
  },
  {
   "cell_type": "markdown",
   "metadata": {
    "id": "O6O2xc3gshHC"
   },
   "source": [
    "## 2. Data Understanding"
   ]
  },
  {
   "cell_type": "markdown",
   "metadata": {
    "id": "ZRAP75FTiVD8"
   },
   "source": [
    "Dataset berupa kumpulan data log jaringan yang dikumpulkan oleh organisasi swasta. Log lalu lintas jaringan dikumpulkan dari tanggal 18 hingga 27 Mei 2021. catatan log yang digunakan diambil dari firewall yang digunakan oleh organisasi. Internet  diakses  oleh  banyak  orang  tanpa terkecuali  hacker  dan  cracker.  Dengan  alasan  tertentu  mereka  melakukan  penyusupan  yang  dapat  merugikan para pemilik server dan jaringan komputer. Salah satu tools  yang dapat  digunakan untuk  melakukan tindakan preventif  terhadap  serangan  jaringan  komputer  dengan  menggunakan  firewall.\n",
    "Firewall adalah sistem keamanan jaringan yang membatasi akses yang tidak sah ke jaringan dan melindungi sistem dan data dari seragan eksternal. Tujuan firewall menciptakan keamanan koneksi antara jaringan pribadi dan jaringan internet."
   ]
  },
  {
   "cell_type": "markdown",
   "metadata": {
    "id": "SOont-O71hwG"
   },
   "source": [
    ". \n",
    "### Mengidentifikasi jumlah data\n",
    "Mengidentifikasi jumlah data merupakan langkah awal untuk memahami skala dataset yang akan kita lakukan pengolahan. Dengan mengetahui jumlah baris (observasi) dan kolom (fitur) atau gambaran umum tentang ukuran data. Jumlah dataset sebanyak 65532 dengan rincian sebagai berikut :\n",
    "Pada fitur atau kolom Action terdapat 4 output sebagai berikut :\n",
    "- allow         37640\n",
    "- deny          14987\n",
    "- drop          12851\n",
    "- reset-both       54\n",
    "\n"
   ]
  },
  {
   "cell_type": "markdown",
   "metadata": {},
   "source": [
    "import modul yang akan digunakan"
   ]
  },
  {
   "cell_type": "code",
   "execution_count": 6,
   "metadata": {
    "id": "hdlr4tvjsbmP"
   },
   "outputs": [],
   "source": [
    "import numpy as np\n",
    "import pandas as pd\n",
    "from scipy import stats\n",
    "import matplotlib.pyplot as plt\n",
    "import seaborn as sns\n",
    "import pickle\n",
    "from sklearn.preprocessing import LabelEncoder\n",
    "from sklearn.model_selection import train_test_split\n",
    "from sklearn.preprocessing import StandardScaler, MinMaxScaler\n",
    "from sklearn.metrics import accuracy_score\n",
    "from sklearn.linear_model import LogisticRegression\n",
    "from sklearn.svm import SVC\n",
    "from sklearn.ensemble import RandomForestClassifier\n",
    "from sklearn.tree import DecisionTreeClassifier\n",
    "from sklearn.naive_bayes import GaussianNB"
   ]
  },
  {
   "cell_type": "code",
   "execution_count": 7,
   "metadata": {
    "id": "SoVchR50sjEm"
   },
   "outputs": [],
   "source": [
    "# variabel data digunakan untuk menyimpan data yang dipanggil menggunakan library pandas.\n",
    "data = pd.read_csv('firewall.csv')"
   ]
  },
  {
   "cell_type": "code",
   "execution_count": 8,
   "metadata": {
    "colab": {
     "base_uri": "https://localhost:8080/",
     "height": 478
    },
    "id": "gcsSq7jIsrbD",
    "outputId": "0ae5ca94-a39f-465c-bd36-3135738d5382",
    "scrolled": true
   },
   "outputs": [
    {
     "data": {
      "text/html": [
       "<div>\n",
       "<style scoped>\n",
       "    .dataframe tbody tr th:only-of-type {\n",
       "        vertical-align: middle;\n",
       "    }\n",
       "\n",
       "    .dataframe tbody tr th {\n",
       "        vertical-align: top;\n",
       "    }\n",
       "\n",
       "    .dataframe thead th {\n",
       "        text-align: right;\n",
       "    }\n",
       "</style>\n",
       "<table border=\"1\" class=\"dataframe\">\n",
       "  <thead>\n",
       "    <tr style=\"text-align: right;\">\n",
       "      <th></th>\n",
       "      <th>Source Port</th>\n",
       "      <th>Destination Port</th>\n",
       "      <th>NAT Source Port</th>\n",
       "      <th>NAT Destination Port</th>\n",
       "      <th>Action</th>\n",
       "      <th>Bytes</th>\n",
       "      <th>Bytes Sent</th>\n",
       "      <th>Bytes Received</th>\n",
       "      <th>Packets</th>\n",
       "      <th>Elapsed Time (sec)</th>\n",
       "      <th>pkts_sent</th>\n",
       "      <th>pkts_received</th>\n",
       "    </tr>\n",
       "  </thead>\n",
       "  <tbody>\n",
       "    <tr>\n",
       "      <th>0</th>\n",
       "      <td>57222</td>\n",
       "      <td>53</td>\n",
       "      <td>54587</td>\n",
       "      <td>53</td>\n",
       "      <td>allow</td>\n",
       "      <td>177</td>\n",
       "      <td>94</td>\n",
       "      <td>83</td>\n",
       "      <td>2</td>\n",
       "      <td>30</td>\n",
       "      <td>1</td>\n",
       "      <td>1</td>\n",
       "    </tr>\n",
       "    <tr>\n",
       "      <th>1</th>\n",
       "      <td>56258</td>\n",
       "      <td>3389</td>\n",
       "      <td>56258</td>\n",
       "      <td>3389</td>\n",
       "      <td>allow</td>\n",
       "      <td>4768</td>\n",
       "      <td>1600</td>\n",
       "      <td>3168</td>\n",
       "      <td>19</td>\n",
       "      <td>17</td>\n",
       "      <td>10</td>\n",
       "      <td>9</td>\n",
       "    </tr>\n",
       "    <tr>\n",
       "      <th>2</th>\n",
       "      <td>6881</td>\n",
       "      <td>50321</td>\n",
       "      <td>43265</td>\n",
       "      <td>50321</td>\n",
       "      <td>allow</td>\n",
       "      <td>238</td>\n",
       "      <td>118</td>\n",
       "      <td>120</td>\n",
       "      <td>2</td>\n",
       "      <td>1199</td>\n",
       "      <td>1</td>\n",
       "      <td>1</td>\n",
       "    </tr>\n",
       "    <tr>\n",
       "      <th>3</th>\n",
       "      <td>50553</td>\n",
       "      <td>3389</td>\n",
       "      <td>50553</td>\n",
       "      <td>3389</td>\n",
       "      <td>allow</td>\n",
       "      <td>3327</td>\n",
       "      <td>1438</td>\n",
       "      <td>1889</td>\n",
       "      <td>15</td>\n",
       "      <td>17</td>\n",
       "      <td>8</td>\n",
       "      <td>7</td>\n",
       "    </tr>\n",
       "    <tr>\n",
       "      <th>4</th>\n",
       "      <td>50002</td>\n",
       "      <td>443</td>\n",
       "      <td>45848</td>\n",
       "      <td>443</td>\n",
       "      <td>allow</td>\n",
       "      <td>25358</td>\n",
       "      <td>6778</td>\n",
       "      <td>18580</td>\n",
       "      <td>31</td>\n",
       "      <td>16</td>\n",
       "      <td>13</td>\n",
       "      <td>18</td>\n",
       "    </tr>\n",
       "    <tr>\n",
       "      <th>...</th>\n",
       "      <td>...</td>\n",
       "      <td>...</td>\n",
       "      <td>...</td>\n",
       "      <td>...</td>\n",
       "      <td>...</td>\n",
       "      <td>...</td>\n",
       "      <td>...</td>\n",
       "      <td>...</td>\n",
       "      <td>...</td>\n",
       "      <td>...</td>\n",
       "      <td>...</td>\n",
       "      <td>...</td>\n",
       "    </tr>\n",
       "    <tr>\n",
       "      <th>65527</th>\n",
       "      <td>63691</td>\n",
       "      <td>80</td>\n",
       "      <td>13237</td>\n",
       "      <td>80</td>\n",
       "      <td>allow</td>\n",
       "      <td>314</td>\n",
       "      <td>192</td>\n",
       "      <td>122</td>\n",
       "      <td>6</td>\n",
       "      <td>15</td>\n",
       "      <td>4</td>\n",
       "      <td>2</td>\n",
       "    </tr>\n",
       "    <tr>\n",
       "      <th>65528</th>\n",
       "      <td>50964</td>\n",
       "      <td>80</td>\n",
       "      <td>13485</td>\n",
       "      <td>80</td>\n",
       "      <td>allow</td>\n",
       "      <td>4680740</td>\n",
       "      <td>67312</td>\n",
       "      <td>4613428</td>\n",
       "      <td>4675</td>\n",
       "      <td>77</td>\n",
       "      <td>985</td>\n",
       "      <td>3690</td>\n",
       "    </tr>\n",
       "    <tr>\n",
       "      <th>65529</th>\n",
       "      <td>54871</td>\n",
       "      <td>445</td>\n",
       "      <td>0</td>\n",
       "      <td>0</td>\n",
       "      <td>drop</td>\n",
       "      <td>70</td>\n",
       "      <td>70</td>\n",
       "      <td>0</td>\n",
       "      <td>1</td>\n",
       "      <td>0</td>\n",
       "      <td>1</td>\n",
       "      <td>0</td>\n",
       "    </tr>\n",
       "    <tr>\n",
       "      <th>65530</th>\n",
       "      <td>54870</td>\n",
       "      <td>445</td>\n",
       "      <td>0</td>\n",
       "      <td>0</td>\n",
       "      <td>drop</td>\n",
       "      <td>70</td>\n",
       "      <td>70</td>\n",
       "      <td>0</td>\n",
       "      <td>1</td>\n",
       "      <td>0</td>\n",
       "      <td>1</td>\n",
       "      <td>0</td>\n",
       "    </tr>\n",
       "    <tr>\n",
       "      <th>65531</th>\n",
       "      <td>54867</td>\n",
       "      <td>445</td>\n",
       "      <td>0</td>\n",
       "      <td>0</td>\n",
       "      <td>drop</td>\n",
       "      <td>70</td>\n",
       "      <td>70</td>\n",
       "      <td>0</td>\n",
       "      <td>1</td>\n",
       "      <td>0</td>\n",
       "      <td>1</td>\n",
       "      <td>0</td>\n",
       "    </tr>\n",
       "  </tbody>\n",
       "</table>\n",
       "<p>65532 rows × 12 columns</p>\n",
       "</div>"
      ],
      "text/plain": [
       "       Source Port  Destination Port  NAT Source Port  NAT Destination Port  \\\n",
       "0            57222                53            54587                    53   \n",
       "1            56258              3389            56258                  3389   \n",
       "2             6881             50321            43265                 50321   \n",
       "3            50553              3389            50553                  3389   \n",
       "4            50002               443            45848                   443   \n",
       "...            ...               ...              ...                   ...   \n",
       "65527        63691                80            13237                    80   \n",
       "65528        50964                80            13485                    80   \n",
       "65529        54871               445                0                     0   \n",
       "65530        54870               445                0                     0   \n",
       "65531        54867               445                0                     0   \n",
       "\n",
       "      Action    Bytes  Bytes Sent  Bytes Received  Packets  \\\n",
       "0      allow      177          94              83        2   \n",
       "1      allow     4768        1600            3168       19   \n",
       "2      allow      238         118             120        2   \n",
       "3      allow     3327        1438            1889       15   \n",
       "4      allow    25358        6778           18580       31   \n",
       "...      ...      ...         ...             ...      ...   \n",
       "65527  allow      314         192             122        6   \n",
       "65528  allow  4680740       67312         4613428     4675   \n",
       "65529   drop       70          70               0        1   \n",
       "65530   drop       70          70               0        1   \n",
       "65531   drop       70          70               0        1   \n",
       "\n",
       "       Elapsed Time (sec)  pkts_sent  pkts_received  \n",
       "0                      30          1              1  \n",
       "1                      17         10              9  \n",
       "2                    1199          1              1  \n",
       "3                      17          8              7  \n",
       "4                      16         13             18  \n",
       "...                   ...        ...            ...  \n",
       "65527                  15          4              2  \n",
       "65528                  77        985           3690  \n",
       "65529                   0          1              0  \n",
       "65530                   0          1              0  \n",
       "65531                   0          1              0  \n",
       "\n",
       "[65532 rows x 12 columns]"
      ]
     },
     "execution_count": 8,
     "metadata": {},
     "output_type": "execute_result"
    }
   ],
   "source": [
    "data"
   ]
  },
  {
   "cell_type": "code",
   "execution_count": 9,
   "metadata": {
    "scrolled": true
   },
   "outputs": [
    {
     "name": "stdout",
     "output_type": "stream",
     "text": [
      "Jumlah Data Firewall : 65532\n"
     ]
    }
   ],
   "source": [
    "jumlah_data = data.shape[0]\n",
    "print(\"Jumlah Data Firewall :\", jumlah_data)"
   ]
  },
  {
   "cell_type": "markdown",
   "metadata": {},
   "source": [
    "Identifikasi setiap target kelas didapatkam Allow menjadi kelas yang paling dominan karena hasilnya lebih tinggi dan memiliki jarak perbedaan yang jauh pada target kelas lainnya. Sehingga, pada data ini jika langsung dilakukan pengolahan klasifikasi akan mendapatkan hasil yang tidak sesuai atau terjadi kesalahan prediksi. Untuk menangani hal seperti ini perlu dilakukan balancing data untuk memberikan keseimbangan nilai yang dihasilkan. "
   ]
  },
  {
   "cell_type": "code",
   "execution_count": 10,
   "metadata": {
    "colab": {
     "base_uri": "https://localhost:8080/"
    },
    "id": "2sJCeUB-7Qqt",
    "outputId": "c610aafd-4b9c-457f-cd6d-45f9448a0352"
   },
   "outputs": [
    {
     "name": "stdout",
     "output_type": "stream",
     "text": [
      "Sebaran kelas target pada kolom Action\n",
      "allow         37640\n",
      "deny          14987\n",
      "drop          12851\n",
      "reset-both       54\n",
      "Name: Action, dtype: int64\n"
     ]
    }
   ],
   "source": [
    "action_counts = data['Action'].value_counts()\n",
    "print(\"Sebaran kelas target pada kolom Action\")\n",
    "print(action_counts)"
   ]
  },
  {
   "cell_type": "markdown",
   "metadata": {},
   "source": [
    "### Deskripsi Fitur\n",
    "Internet Firewall Data\n",
    "Pada dataset ini terdapat 12 fitur dengan jumlah data sebanyak 65532.\n",
    "\n",
    " 1. Source Port :Port sumber yang digunakan dalam koneksi jaringan. Port ini menunjukkan port yang digunaakan oleh komputer atau perangkat untuk mengirimkan paket data.\n",
    "\n",
    "2. Destination Port : Port tujuan dalam koneksi jaringan. Port ini menunjukkan port yang dituju oleh komputer atau perangkat penerima untuk menerima paket data. \n",
    "\n",
    "3. NAT source port : Port sumber Network Address Trnslation (NAT) yang digunakan dalam koneksi jaringan. NAT adalah teknik yang digunakan untuk mengalihkan alamat IP atau port dalam paket data untuk menghubungkan beberapa perangkat ke internet dengan satu alamat IP. \n",
    "\n",
    "4. NAT destination port : Port tujuan NAT yang digunakan dalam koneksi jaringan. Ini adalah port tujuan setelah melalui proses NAT. \n",
    "\n",
    "5. Action : Kolom target yang akan diprediksi dalam pemodelan. Nilai-nilai di kolom ini menunjukkan tindakan yang diambil dalam koneksi jaringan, dengan target \"allow\" yang berarti diizinkan, \"deny\" berarti ditolak, \"drop\" berarti dibuang, \"reset-both\" berarti setel ulang.\n",
    "\n",
    "\n",
    "6. Bytes : Jumlah total byte dalam koneksi jaringan. Hal ini mengukur besarnya data yang ditransmisikan dalam koneksi tersebut.\n",
    "\n",
    "7. Bytes sent :Jumlah byte yang dikirim dalam koneksi jaringan. Kolom ini mengukur besarnya data yang dikirim dari sumber ke tujuan.\n",
    "\n",
    "8. Bytes Received : Jumlah byte yang diterima dalam koneksi jaringan. Ini mengukur besarnya data yang diterima oleh penerima. \n",
    "\n",
    "9. Packets : Jumlah total paket data yang dikirim dalam koneksi jaringan. Paket adalah unit data yang dikirim dalam jaringan. \n",
    "\n",
    "10. Elapsed Time (sec) : Waktu yang dibutuhkan dalam koneksi jaringan, diukur dengan satuan detik. Kolom ini menunjukkan durasi dari koneksi. \n",
    "\n",
    "11. pkts_sent : Kolom yang berisi jumlah paket data yang dikirim dalam koneksi jaringan. \n",
    "\n",
    "12. pkts_received : Kolom yang berisi jumlah paket data yang diterima dalam koneksi jaringan. \n",
    "\n",
    "### Jenis-jenis data\n",
    "Berdasarkan skala ukur  dapat dibedakan menjadi 4 jenis sebagai berikut :\n",
    "1. Nominal\n",
    "\n",
    "  Jenis data nominal yaitu data hanya mengandung unsur penamaan. Pada pengolahan data ini, jenis data nominal terdapat pada kolom Cation yang terdiri dari allow, denny, drop, dan reset-both tanpa urutan tertentu.\n",
    "2. Ordinal\n",
    "\n",
    "  Data ordinal adalah data yang memiliki tingkatan atau peringkat, namun jarak antara nilai-nilainya tidak terdefinisi secara jelas.\n",
    "  Contoh : tingkat pendidikan SD, SMP,SMA, Sarjana, Magister, Doktor\n",
    "3. Interval\n",
    "\n",
    "  Data interval adalah data yang memiliki tingkatan atau peringkat dengan jarak antar nilai yang terdefinisi secara konsisten. Meskipun memiliki nol mutlak, tetapi nol tersebut tidak memiliki arti mutlak (mis. suhu di Celcius atau Fahrenheit).\n",
    "  Contoh: Jika terdapat kolom Elapsed Time (sec) yang menyatakan waktu dalam detik.\n",
    "4. Rasio\n",
    "\n",
    "  Data rasio memiliki tingkatan atau peringkat dengan jarak antar nilai yang terdefinisi secara konsisten dan memiliki nol mutlak yang memiliki arti mutlak. Data rasio memungkinkan operasi matematika seperti penambahan, pengurangan, perkalian, dan pembagian.\n",
    "  Contoh : Kolom yang memiliki jenis data rasio pada data firewall ini adalah kolom Bytes, Bytes Sent, Bytes Received, Packets, dan pkts_sent.\n"
   ]
  },
  {
   "cell_type": "code",
   "execution_count": 11,
   "metadata": {
    "colab": {
     "base_uri": "https://localhost:8080/"
    },
    "id": "1yeANJkDsv_T",
    "outputId": "7522525d-43e5-4699-fa56-8417bba34cc1"
   },
   "outputs": [
    {
     "data": {
      "text/plain": [
       "(65532, 12)"
      ]
     },
     "execution_count": 11,
     "metadata": {},
     "output_type": "execute_result"
    }
   ],
   "source": [
    "# jumlah fitur dari data\n",
    "data.shape"
   ]
  },
  {
   "cell_type": "code",
   "execution_count": 12,
   "metadata": {},
   "outputs": [
    {
     "data": {
      "text/plain": [
       "Index(['Source Port', 'Destination Port', 'NAT Source Port',\n",
       "       'NAT Destination Port', 'Action', 'Bytes', 'Bytes Sent',\n",
       "       'Bytes Received', 'Packets', 'Elapsed Time (sec)', 'pkts_sent',\n",
       "       'pkts_received'],\n",
       "      dtype='object')"
      ]
     },
     "execution_count": 12,
     "metadata": {},
     "output_type": "execute_result"
    }
   ],
   "source": [
    "# nama-nama fitur pada data\n",
    "data.columns"
   ]
  },
  {
   "cell_type": "markdown",
   "metadata": {},
   "source": [
    "Mengetahui tipe data dari masing-masing kolom atau fitur."
   ]
  },
  {
   "cell_type": "code",
   "execution_count": 13,
   "metadata": {
    "colab": {
     "base_uri": "https://localhost:8080/"
    },
    "id": "AFvPoJW_Dejv",
    "outputId": "a93026cd-9dc2-4e92-a54c-635310b1e06b"
   },
   "outputs": [
    {
     "data": {
      "text/plain": [
       "Source Port              int64\n",
       "Destination Port         int64\n",
       "NAT Source Port          int64\n",
       "NAT Destination Port     int64\n",
       "Action                  object\n",
       "Bytes                    int64\n",
       "Bytes Sent               int64\n",
       "Bytes Received           int64\n",
       "Packets                  int64\n",
       "Elapsed Time (sec)       int64\n",
       "pkts_sent                int64\n",
       "pkts_received            int64\n",
       "dtype: object"
      ]
     },
     "execution_count": 13,
     "metadata": {},
     "output_type": "execute_result"
    }
   ],
   "source": [
    "data.dtypes"
   ]
  },
  {
   "cell_type": "markdown",
   "metadata": {
    "id": "jO3ZbcP1hoFo"
   },
   "source": [
    "\n",
    "### Eksplorasi Data Awal\n",
    "Eksplorasi data awal merupakan langkah penting dalam memahami karakteristik dataset. Salah satu cara untuk melakukan eksplorasi data adalah dengan melakukan penggrafikan fitur (feature visualization)atau visualisasi ciri-ciri atau fitur dari dataset dengan grafik. Pada eksplorasi data firewall ini menggunakan visualisasi data menggunakan grafik batang, scatter plot, line plot, dan diagram lingkaran."
   ]
  },
  {
   "cell_type": "code",
   "execution_count": 10,
   "metadata": {
    "colab": {
     "base_uri": "https://localhost:8080/",
     "height": 631
    },
    "id": "d4gkvuPSjMET",
    "outputId": "f0f458a6-f886-4596-91f7-019b92dd3bc8",
    "scrolled": true
   },
   "outputs": [
    {
     "data": {
      "image/png": "[encoded data removed]",
      "text/plain": [
       "<Figure size 1080x1080 with 12 Axes>"
      ]
     },
     "metadata": {
      "needs_background": "light"
     },
     "output_type": "display_data"
    }
   ],
   "source": [
    "fig, axes = plt.subplots(nrows=4, ncols=3, figsize=(15, 15))\n",
    "fig.tight_layout(pad=3.0)  # Menambahkan ruang antar subplot\n",
    "\n",
    "# Menggunakan loop untuk membuat dan menampilkan histogram\n",
    "for i, ax in enumerate(axes.flatten()):\n",
    "    if i < len(data.columns):  # Pastikan indeks tidak melebihi jumlah kolom data\n",
    "        if data[data.columns[i]].dtype == 'object' or data[data.columns[i]].dtype == 'int64':\n",
    "            data[data.columns[i]].hist(ax=ax)\n",
    "            ax.set_title(f'Histogram {data.columns[i]}')\n",
    "\n",
    "# Menampilkan grafik\n",
    "plt.show()"
   ]
  },
  {
   "cell_type": "code",
   "execution_count": 11,
   "metadata": {
    "colab": {
     "base_uri": "https://localhost:8080/",
     "height": 500
    },
    "id": "4hoKgQ1P_sKY",
    "outputId": "d3f7193b-e472-4ebe-af40-2a9168131d6d"
   },
   "outputs": [
    {
     "data": {
      "image/png": "[encoded data removed]",
      "text/plain": [
       "<Figure size 576x432 with 1 Axes>"
      ]
     },
     "metadata": {
      "needs_background": "light"
     },
     "output_type": "display_data"
    }
   ],
   "source": [
    "action_counts = data['Action'].value_counts()\n",
    "# Membuat grafik batang\n",
    "plt.figure(figsize=(8, 6))\n",
    "plt.bar(action_counts.index, action_counts.values)\n",
    "plt.xlabel('Action')\n",
    "plt.ylabel('Jumlah')\n",
    "plt.title('Jumlah Kasus berdasarkan Action')\n",
    "plt.show()"
   ]
  },
  {
   "cell_type": "code",
   "execution_count": 12,
   "metadata": {
    "colab": {
     "base_uri": "https://localhost:8080/",
     "height": 500
    },
    "id": "rwIw1r-z_x8A",
    "outputId": "e35b00c0-3123-4432-d899-d4722642f9fa"
   },
   "outputs": [
    {
     "data": {
      "image/png": "[encoded data removed]",
      "text/plain": [
       "<Figure size 576x432 with 1 Axes>"
      ]
     },
     "metadata": {
      "needs_background": "light"
     },
     "output_type": "display_data"
    }
   ],
   "source": [
    "plt.figure(figsize=(8, 6))\n",
    "plt.hist(data['Bytes'], bins=20, color='skyblue', edgecolor='black')\n",
    "plt.xlabel('Bytes')\n",
    "plt.ylabel('Frekuensi')\n",
    "plt.title('Distribusi Bytes')\n",
    "plt.show()"
   ]
  },
  {
   "cell_type": "code",
   "execution_count": 13,
   "metadata": {
    "colab": {
     "base_uri": "https://localhost:8080/",
     "height": 516
    },
    "id": "oU2uOLmo_8X6",
    "outputId": "f21ae36c-c720-48c0-b44e-8fb63fecf6a0"
   },
   "outputs": [
    {
     "data": {
      "image/png": "[encoded data removed]",
      "text/plain": [
       "<Figure size 576x432 with 1 Axes>"
      ]
     },
     "metadata": {
      "needs_background": "light"
     },
     "output_type": "display_data"
    }
   ],
   "source": [
    "plt.figure(figsize=(8, 6))\n",
    "plt.scatter(data['Bytes Sent'], data['Bytes Received'], alpha=0.5)\n",
    "plt.xlabel('Bytes Sent')\n",
    "plt.ylabel('Bytes Received')\n",
    "plt.title('Scatter Plot Bytes Sent vs Bytes Received')\n",
    "plt.show()"
   ]
  },
  {
   "cell_type": "code",
   "execution_count": 14,
   "metadata": {
    "colab": {
     "base_uri": "https://localhost:8080/",
     "height": 636
    },
    "id": "G_wqYx2-_-QB",
    "outputId": "f1e38c66-a3f6-4f36-8f37-e57f728d1cbd"
   },
   "outputs": [
    {
     "data": {
      "image/png": "[encoded data removed]",
      "text/plain": [
       "<Figure size 576x576 with 1 Axes>"
      ]
     },
     "metadata": {},
     "output_type": "display_data"
    }
   ],
   "source": [
    "action_counts = data['Action'].value_counts()\n",
    "plt.figure(figsize=(8, 8))\n",
    "plt.pie(action_counts, labels=action_counts.index, autopct='%1.1f%%', colors=['lightcoral', 'lightblue', 'lightgreen'])\n",
    "plt.title('Persentase Data berdasarkan Action')\n",
    "plt.show()"
   ]
  },
  {
   "cell_type": "code",
   "execution_count": 15,
   "metadata": {
    "colab": {
     "base_uri": "https://localhost:8080/",
     "height": 541
    },
    "id": "MV29S5-8AB0b",
    "outputId": "f24dab33-4d0a-4400-a02b-621681589187"
   },
   "outputs": [
    {
     "data": {
      "image/png": "[encoded data removed]",
      "text/plain": [
       "<Figure size 576x432 with 1 Axes>"
      ]
     },
     "metadata": {
      "needs_background": "light"
     },
     "output_type": "display_data"
    }
   ],
   "source": [
    "plt.figure(figsize=(8, 6))\n",
    "plt.boxplot(data['Bytes'], vert=False)\n",
    "plt.xlabel('Bytes')\n",
    "plt.title('Box Plot Bytes')\n",
    "plt.show()"
   ]
  },
  {
   "cell_type": "code",
   "execution_count": 14,
   "metadata": {
    "colab": {
     "base_uri": "https://localhost:8080/",
     "height": 590
    },
    "id": "6yTzXLqWs48h",
    "outputId": "d2dd65b9-4597-4bfd-9bb5-cc5e4beb8a3f",
    "scrolled": true
   },
   "outputs": [
    {
     "name": "stdout",
     "output_type": "stream",
     "text": [
      "<class 'pandas.core.frame.DataFrame'>\n",
      "RangeIndex: 65532 entries, 0 to 65531\n",
      "Data columns (total 12 columns):\n",
      " #   Column                Non-Null Count  Dtype \n",
      "---  ------                --------------  ----- \n",
      " 0   Source Port           65532 non-null  int64 \n",
      " 1   Destination Port      65532 non-null  int64 \n",
      " 2   NAT Source Port       65532 non-null  int64 \n",
      " 3   NAT Destination Port  65532 non-null  int64 \n",
      " 4   Action                65532 non-null  object\n",
      " 5   Bytes                 65532 non-null  int64 \n",
      " 6   Bytes Sent            65532 non-null  int64 \n",
      " 7   Bytes Received        65532 non-null  int64 \n",
      " 8   Packets               65532 non-null  int64 \n",
      " 9   Elapsed Time (sec)    65532 non-null  int64 \n",
      " 10  pkts_sent             65532 non-null  int64 \n",
      " 11  pkts_received         65532 non-null  int64 \n",
      "dtypes: int64(11), object(1)\n",
      "memory usage: 6.0+ MB\n"
     ]
    },
    {
     "data": {
      "text/html": [
       "<div>\n",
       "<style scoped>\n",
       "    .dataframe tbody tr th:only-of-type {\n",
       "        vertical-align: middle;\n",
       "    }\n",
       "\n",
       "    .dataframe tbody tr th {\n",
       "        vertical-align: top;\n",
       "    }\n",
       "\n",
       "    .dataframe thead th {\n",
       "        text-align: right;\n",
       "    }\n",
       "</style>\n",
       "<table border=\"1\" class=\"dataframe\">\n",
       "  <thead>\n",
       "    <tr style=\"text-align: right;\">\n",
       "      <th></th>\n",
       "      <th>Source Port</th>\n",
       "      <th>Destination Port</th>\n",
       "      <th>NAT Source Port</th>\n",
       "      <th>NAT Destination Port</th>\n",
       "      <th>Action</th>\n",
       "      <th>Bytes</th>\n",
       "      <th>Bytes Sent</th>\n",
       "      <th>Bytes Received</th>\n",
       "      <th>Packets</th>\n",
       "      <th>Elapsed Time (sec)</th>\n",
       "      <th>pkts_sent</th>\n",
       "      <th>pkts_received</th>\n",
       "    </tr>\n",
       "  </thead>\n",
       "  <tbody>\n",
       "    <tr>\n",
       "      <th>0</th>\n",
       "      <td>57222</td>\n",
       "      <td>53</td>\n",
       "      <td>54587</td>\n",
       "      <td>53</td>\n",
       "      <td>allow</td>\n",
       "      <td>177</td>\n",
       "      <td>94</td>\n",
       "      <td>83</td>\n",
       "      <td>2</td>\n",
       "      <td>30</td>\n",
       "      <td>1</td>\n",
       "      <td>1</td>\n",
       "    </tr>\n",
       "    <tr>\n",
       "      <th>1</th>\n",
       "      <td>56258</td>\n",
       "      <td>3389</td>\n",
       "      <td>56258</td>\n",
       "      <td>3389</td>\n",
       "      <td>allow</td>\n",
       "      <td>4768</td>\n",
       "      <td>1600</td>\n",
       "      <td>3168</td>\n",
       "      <td>19</td>\n",
       "      <td>17</td>\n",
       "      <td>10</td>\n",
       "      <td>9</td>\n",
       "    </tr>\n",
       "    <tr>\n",
       "      <th>2</th>\n",
       "      <td>6881</td>\n",
       "      <td>50321</td>\n",
       "      <td>43265</td>\n",
       "      <td>50321</td>\n",
       "      <td>allow</td>\n",
       "      <td>238</td>\n",
       "      <td>118</td>\n",
       "      <td>120</td>\n",
       "      <td>2</td>\n",
       "      <td>1199</td>\n",
       "      <td>1</td>\n",
       "      <td>1</td>\n",
       "    </tr>\n",
       "    <tr>\n",
       "      <th>3</th>\n",
       "      <td>50553</td>\n",
       "      <td>3389</td>\n",
       "      <td>50553</td>\n",
       "      <td>3389</td>\n",
       "      <td>allow</td>\n",
       "      <td>3327</td>\n",
       "      <td>1438</td>\n",
       "      <td>1889</td>\n",
       "      <td>15</td>\n",
       "      <td>17</td>\n",
       "      <td>8</td>\n",
       "      <td>7</td>\n",
       "    </tr>\n",
       "    <tr>\n",
       "      <th>4</th>\n",
       "      <td>50002</td>\n",
       "      <td>443</td>\n",
       "      <td>45848</td>\n",
       "      <td>443</td>\n",
       "      <td>allow</td>\n",
       "      <td>25358</td>\n",
       "      <td>6778</td>\n",
       "      <td>18580</td>\n",
       "      <td>31</td>\n",
       "      <td>16</td>\n",
       "      <td>13</td>\n",
       "      <td>18</td>\n",
       "    </tr>\n",
       "  </tbody>\n",
       "</table>\n",
       "</div>"
      ],
      "text/plain": [
       "   Source Port  Destination Port  NAT Source Port  NAT Destination Port  \\\n",
       "0        57222                53            54587                    53   \n",
       "1        56258              3389            56258                  3389   \n",
       "2         6881             50321            43265                 50321   \n",
       "3        50553              3389            50553                  3389   \n",
       "4        50002               443            45848                   443   \n",
       "\n",
       "  Action  Bytes  Bytes Sent  Bytes Received  Packets  Elapsed Time (sec)  \\\n",
       "0  allow    177          94              83        2                  30   \n",
       "1  allow   4768        1600            3168       19                  17   \n",
       "2  allow    238         118             120        2                1199   \n",
       "3  allow   3327        1438            1889       15                  17   \n",
       "4  allow  25358        6778           18580       31                  16   \n",
       "\n",
       "   pkts_sent  pkts_received  \n",
       "0          1              1  \n",
       "1         10              9  \n",
       "2          1              1  \n",
       "3          8              7  \n",
       "4         13             18  "
      ]
     },
     "execution_count": 14,
     "metadata": {},
     "output_type": "execute_result"
    }
   ],
   "source": [
    "data.info()\n",
    "data.head()"
   ]
  },
  {
   "cell_type": "markdown",
   "metadata": {
    "id": "dROW97wHlnL9"
   },
   "source": [
    "### Describe data\n",
    "\n",
    "Describe data digunakan untuk memberikan nilai statistik deskriptif dari suatu dataframe dari masing-masing fitur dengan hasil sebagai berikut :\n",
    "  - Jumlah data (Count) : memberikan informasi tentang jumlah data yang tidak bernilai 'NaN' setiap kolom. Jumlah ini mencakup data yang tidak bernilai NaN atau missing Value.\n",
    "  - Rata-rata (Mean) : Rata-rata atau mean adalah nilai tengah dari distribusi data. Ini dihitung dengan menjumlahkan semua nilai dan kemudian mdibagi dengan jumlah total dari data.\n",
    "  - std (standar deviasi) : Standar deviasi mengukr sejauh mana data tersebar dari rata-rata. Sebaran data, standar deviasi yang tinggi menunjukkan bahwa data cenderung lebih tersebar atau tingkat variabilitas yang lebih besar dalam dataset.\n",
    "  - Nilai Minimum (Min)  : menunjukkan nilai terkecil pada setiap kolom\n",
    "  - 25% atau Q1 : Menunjukkan nilai kuartil pertama menunjukkan nilai yang membagi 25% data terandah. Baris ini memberikan informasi tentang distribusi data di bagian bawah.\n",
    "  -  50% : Median atau Q2, adalah nilai yang membagi data menjadi dua bagian setara. Jika data diurutkan, median berada di tengah-tengah. Ini memberikan gambaran tentang pusat distribusi.\n",
    "  - 75% atau Q3 : Baris 75% atau kuartil ketiga(Q3) menunjukkan nilai membagi 75% data terendah. Ini memberikan informasi tentang distribusi data di bagian atas.\n",
    "  - max :  Nilai terbesar dalam setiap kolom. Baris ini memberikan gambaran tentang rentang nilai yang terdapat dalam dataset."
   ]
  },
  {
   "cell_type": "code",
   "execution_count": 15,
   "metadata": {
    "colab": {
     "base_uri": "https://localhost:8080/",
     "height": 355
    },
    "id": "h-7XrwOFAYgl",
    "outputId": "4106c91a-15b2-4801-e7c8-5245e49b7c9b",
    "scrolled": true
   },
   "outputs": [
    {
     "data": {
      "text/html": [
       "<div>\n",
       "<style scoped>\n",
       "    .dataframe tbody tr th:only-of-type {\n",
       "        vertical-align: middle;\n",
       "    }\n",
       "\n",
       "    .dataframe tbody tr th {\n",
       "        vertical-align: top;\n",
       "    }\n",
       "\n",
       "    .dataframe thead th {\n",
       "        text-align: right;\n",
       "    }\n",
       "</style>\n",
       "<table border=\"1\" class=\"dataframe\">\n",
       "  <thead>\n",
       "    <tr style=\"text-align: right;\">\n",
       "      <th></th>\n",
       "      <th>Source Port</th>\n",
       "      <th>Destination Port</th>\n",
       "      <th>NAT Source Port</th>\n",
       "      <th>NAT Destination Port</th>\n",
       "      <th>Bytes</th>\n",
       "      <th>Bytes Sent</th>\n",
       "      <th>Bytes Received</th>\n",
       "      <th>Packets</th>\n",
       "      <th>Elapsed Time (sec)</th>\n",
       "      <th>pkts_sent</th>\n",
       "      <th>pkts_received</th>\n",
       "    </tr>\n",
       "  </thead>\n",
       "  <tbody>\n",
       "    <tr>\n",
       "      <th>count</th>\n",
       "      <td>65532.000000</td>\n",
       "      <td>65532.000000</td>\n",
       "      <td>65532.000000</td>\n",
       "      <td>65532.000000</td>\n",
       "      <td>6.553200e+04</td>\n",
       "      <td>6.553200e+04</td>\n",
       "      <td>6.553200e+04</td>\n",
       "      <td>6.553200e+04</td>\n",
       "      <td>65532.000000</td>\n",
       "      <td>65532.000000</td>\n",
       "      <td>65532.000000</td>\n",
       "    </tr>\n",
       "    <tr>\n",
       "      <th>mean</th>\n",
       "      <td>49391.969343</td>\n",
       "      <td>10577.385812</td>\n",
       "      <td>19282.972761</td>\n",
       "      <td>2671.049930</td>\n",
       "      <td>9.712395e+04</td>\n",
       "      <td>2.238580e+04</td>\n",
       "      <td>7.473815e+04</td>\n",
       "      <td>1.028660e+02</td>\n",
       "      <td>65.833577</td>\n",
       "      <td>41.399530</td>\n",
       "      <td>61.466505</td>\n",
       "    </tr>\n",
       "    <tr>\n",
       "      <th>std</th>\n",
       "      <td>15255.712537</td>\n",
       "      <td>18466.027039</td>\n",
       "      <td>21970.689669</td>\n",
       "      <td>9739.162278</td>\n",
       "      <td>5.618439e+06</td>\n",
       "      <td>3.828139e+06</td>\n",
       "      <td>2.463208e+06</td>\n",
       "      <td>5.133002e+03</td>\n",
       "      <td>302.461762</td>\n",
       "      <td>3218.871288</td>\n",
       "      <td>2223.332271</td>\n",
       "    </tr>\n",
       "    <tr>\n",
       "      <th>min</th>\n",
       "      <td>0.000000</td>\n",
       "      <td>0.000000</td>\n",
       "      <td>0.000000</td>\n",
       "      <td>0.000000</td>\n",
       "      <td>6.000000e+01</td>\n",
       "      <td>6.000000e+01</td>\n",
       "      <td>0.000000e+00</td>\n",
       "      <td>1.000000e+00</td>\n",
       "      <td>0.000000</td>\n",
       "      <td>1.000000</td>\n",
       "      <td>0.000000</td>\n",
       "    </tr>\n",
       "    <tr>\n",
       "      <th>25%</th>\n",
       "      <td>49183.000000</td>\n",
       "      <td>80.000000</td>\n",
       "      <td>0.000000</td>\n",
       "      <td>0.000000</td>\n",
       "      <td>6.600000e+01</td>\n",
       "      <td>6.600000e+01</td>\n",
       "      <td>0.000000e+00</td>\n",
       "      <td>1.000000e+00</td>\n",
       "      <td>0.000000</td>\n",
       "      <td>1.000000</td>\n",
       "      <td>0.000000</td>\n",
       "    </tr>\n",
       "    <tr>\n",
       "      <th>50%</th>\n",
       "      <td>53776.500000</td>\n",
       "      <td>445.000000</td>\n",
       "      <td>8820.500000</td>\n",
       "      <td>53.000000</td>\n",
       "      <td>1.680000e+02</td>\n",
       "      <td>9.000000e+01</td>\n",
       "      <td>7.900000e+01</td>\n",
       "      <td>2.000000e+00</td>\n",
       "      <td>15.000000</td>\n",
       "      <td>1.000000</td>\n",
       "      <td>1.000000</td>\n",
       "    </tr>\n",
       "    <tr>\n",
       "      <th>75%</th>\n",
       "      <td>58638.000000</td>\n",
       "      <td>15000.000000</td>\n",
       "      <td>38366.250000</td>\n",
       "      <td>443.000000</td>\n",
       "      <td>7.522500e+02</td>\n",
       "      <td>2.100000e+02</td>\n",
       "      <td>4.490000e+02</td>\n",
       "      <td>6.000000e+00</td>\n",
       "      <td>30.000000</td>\n",
       "      <td>3.000000</td>\n",
       "      <td>2.000000</td>\n",
       "    </tr>\n",
       "    <tr>\n",
       "      <th>max</th>\n",
       "      <td>65534.000000</td>\n",
       "      <td>65535.000000</td>\n",
       "      <td>65535.000000</td>\n",
       "      <td>65535.000000</td>\n",
       "      <td>1.269359e+09</td>\n",
       "      <td>9.484772e+08</td>\n",
       "      <td>3.208818e+08</td>\n",
       "      <td>1.036116e+06</td>\n",
       "      <td>10824.000000</td>\n",
       "      <td>747520.000000</td>\n",
       "      <td>327208.000000</td>\n",
       "    </tr>\n",
       "  </tbody>\n",
       "</table>\n",
       "</div>"
      ],
      "text/plain": [
       "        Source Port  Destination Port  NAT Source Port  NAT Destination Port  \\\n",
       "count  65532.000000      65532.000000     65532.000000          65532.000000   \n",
       "mean   49391.969343      10577.385812     19282.972761           2671.049930   \n",
       "std    15255.712537      18466.027039     21970.689669           9739.162278   \n",
       "min        0.000000          0.000000         0.000000              0.000000   \n",
       "25%    49183.000000         80.000000         0.000000              0.000000   \n",
       "50%    53776.500000        445.000000      8820.500000             53.000000   \n",
       "75%    58638.000000      15000.000000     38366.250000            443.000000   \n",
       "max    65534.000000      65535.000000     65535.000000          65535.000000   \n",
       "\n",
       "              Bytes    Bytes Sent  Bytes Received       Packets  \\\n",
       "count  6.553200e+04  6.553200e+04    6.553200e+04  6.553200e+04   \n",
       "mean   9.712395e+04  2.238580e+04    7.473815e+04  1.028660e+02   \n",
       "std    5.618439e+06  3.828139e+06    2.463208e+06  5.133002e+03   \n",
       "min    6.000000e+01  6.000000e+01    0.000000e+00  1.000000e+00   \n",
       "25%    6.600000e+01  6.600000e+01    0.000000e+00  1.000000e+00   \n",
       "50%    1.680000e+02  9.000000e+01    7.900000e+01  2.000000e+00   \n",
       "75%    7.522500e+02  2.100000e+02    4.490000e+02  6.000000e+00   \n",
       "max    1.269359e+09  9.484772e+08    3.208818e+08  1.036116e+06   \n",
       "\n",
       "       Elapsed Time (sec)      pkts_sent  pkts_received  \n",
       "count        65532.000000   65532.000000   65532.000000  \n",
       "mean            65.833577      41.399530      61.466505  \n",
       "std            302.461762    3218.871288    2223.332271  \n",
       "min              0.000000       1.000000       0.000000  \n",
       "25%              0.000000       1.000000       0.000000  \n",
       "50%             15.000000       1.000000       1.000000  \n",
       "75%             30.000000       3.000000       2.000000  \n",
       "max          10824.000000  747520.000000  327208.000000  "
      ]
     },
     "execution_count": 15,
     "metadata": {},
     "output_type": "execute_result"
    }
   ],
   "source": [
    "data.describe()"
   ]
  },
  {
   "cell_type": "markdown",
   "metadata": {},
   "source": [
    "Penjelasan :\n",
    "\n",
    "Pada data firewall ini, langkah untuk describe data menggunakan fungsi 'describe' yang terdapat pada library pandas di python. Dengan menggunakan describe(), akan mempercepat untuk mendapatkan gambaran tentang distribusi dan statistik dasar dari dataset. "
   ]
  },
  {
   "cell_type": "markdown",
   "metadata": {
    "id": "2tdB5ofju_JR"
   },
   "source": [
    "### Duplikat data\n",
    "\n",
    "Melakukan identifikasi  data yang error atau inkonsisten. Ketika menemui data duplikat, yang bisa dilakukan adalah memperbaiki dan melakukan penghapusan.  Mengidentifikasi data duplikat penting untuk dilakukan pada pengolahan data untuk memastikan integritas data dan hasil analisis yang akurat.\n",
    "Dari data sejumlah 65532 ditemukan jumlah data yang duplikat sebanyak 8362 data.  Sehingga, jumlah data duplikat akan dihilangkan pada tahap preprocessing."
   ]
  },
  {
   "cell_type": "markdown",
   "metadata": {},
   "source": [
    "Untuk mengetahui nilai duplikat dari dataframe yang disimpan dalam variabel 'data' menggunakan :\n",
    "- data.dupicated() : pada dataframe digunakan untuk melakukan identifikasi baris-baris yang duplikat dalam dataset.\n",
    "- sum() : fungsi sum ditulis setelah 'data.duplicated()', karena dalam fungsi tersebut telah  didapatkan seri boolean. Llau, untuk menjumlahkan nilai 'True' . Nilai 'true' dianggap setara dengan nilai 1 dan nilai 'False' atau yang tidakd uplikat disetarakan dengan nilai 0 dalam operasi penjumlahan. Hasil dari fungsi 'sum)' memberikan jumlah baris yang teridefntifikasi sebagai data duplikat.\n",
    "\n",
    "- 'jumlah_duplikat' : variabel ini digunakan untuk menyimpan hasil penjumlahan tersebut, yaitu jumlah baris  yang dianggap duplikat dalam dataset."
   ]
  },
  {
   "cell_type": "code",
   "execution_count": 16,
   "metadata": {
    "colab": {
     "base_uri": "https://localhost:8080/"
    },
    "id": "wB8l3rX8DtRC",
    "outputId": "28130937-8b3c-4d6a-cf31-6143c0b65207"
   },
   "outputs": [
    {
     "name": "stdout",
     "output_type": "stream",
     "text": [
      "Jumlah data yang duplikat: 8362\n"
     ]
    }
   ],
   "source": [
    "jumlah_duplikat = data.duplicated().sum()\n",
    "print(\"Jumlah data yang duplikat:\", jumlah_duplikat)"
   ]
  },
  {
   "cell_type": "markdown",
   "metadata": {
    "id": "vKYlv-iaQhoJ"
   },
   "source": [
    "### Missing value\n",
    "\n",
    "Missing value setiap kolom pada dataset perlu dilakukan pengecekan karena memastikan data yang akan digunakan dalam model tidak mengandung nilai yang tidak lengkap. Dari pengecekan data firewall dengan total 65532 data ini tidakk ditemukan missing value. Yang artinya, semua kolom terdapat kelengkapan isian data. Sehingga, pada tahap preprocessing tidak perlu dilakukan penghapusan missing value.\n",
    "Penting untuk menangani nilai yang hilang karena banyak algoritma pembelajaran mesin tidak dapat menangani nilai yang hilang secara langsung. \n",
    "\n"
   ]
  },
  {
   "cell_type": "code",
   "execution_count": 17,
   "metadata": {
    "colab": {
     "base_uri": "https://localhost:8080/"
    },
    "id": "cvVXVnT0DoG2",
    "outputId": "7e8a4017-4bc4-400e-adbb-e8970d27bf61",
    "scrolled": true
   },
   "outputs": [
    {
     "name": "stdout",
     "output_type": "stream",
     "text": [
      "Apakah ada nilai yang hilang dalam setiap kolom:\n",
      "Source Port             False\n",
      "Destination Port        False\n",
      "NAT Source Port         False\n",
      "NAT Destination Port    False\n",
      "Action                  False\n",
      "Bytes                   False\n",
      "Bytes Sent              False\n",
      "Bytes Received          False\n",
      "Packets                 False\n",
      "Elapsed Time (sec)      False\n",
      "pkts_sent               False\n",
      "pkts_received           False\n",
      "dtype: bool\n"
     ]
    }
   ],
   "source": [
    "# Menghitung apakah ada nilai yang hilang dalam setiap kolom\n",
    "missing_values = data.isna().any()\n",
    "\n",
    "print(\"Apakah ada nilai yang hilang dalam setiap kolom:\")\n",
    "print(missing_values)"
   ]
  },
  {
   "cell_type": "markdown",
   "metadata": {},
   "source": [
    "Penjelasan \n",
    "\n",
    "- data.isna(), metode ini menghasilkan DatFrame yang telah disimpan sebelumnya dalam variabel data yang berisi nilai boolean yaitu ('True' atau 'False'). Setiap elemen dalam DataFrame menjadi 'True' jika elemen teridentifikasi nilai yang hilang atau nilai kosong. \n",
    "\n",
    "- any : pada pengolahan datadrame boolean untuk menunjukkan apakah setiap kolom terdapat missing value. "
   ]
  },
  {
   "cell_type": "markdown",
   "metadata": {},
   "source": [
    "Mengecek baris dengan nilai Null(NaN)\n",
    "\n",
    "Untuk melakukan penghapusan baris atau kolom yang mengandung nilai null atau NaN dari Data dengan menggunakan dropna(). Diikuti dengan parameter  inplace = True, sehingga perubahan akan langsung dilakukan pada DataFrame. Nilai nan akan dihapus dari DatFrame dan perubahan diterapkan langsung pada DatFrame. Namun, jika inplace menggunakan 'false' maka metide ini mengembalikan data baru dengan nilai null dihapus dan untuk menyimpannya memerlukan variabel baru. Namun, pada data ini tidak ditemukan data NaN(Not a Number)."
   ]
  },
  {
   "cell_type": "markdown",
   "metadata": {},
   "source": [
    "Penjelasan :\n",
    "\n",
    "- Penggunaan  data.isna() menghasilkan DataFrame yang ukurannya sama dengan DataFrame asli (data). Nilainya berupa 'True' dan 'False, jika output 'true' maka data menunjukkan nilai NaN pada posisi yang sesuai tabel diatas. namun, dari hasil pengecekan tersebut semua baris tidak diidentifikasi sebagai nilai NaN sehingga nilainya 'False'\n",
    "\n",
    "- sum() digunakan untuk menghitung jumlah nilai 'True' atau nilai NaN di setiap kolom"
   ]
  },
  {
   "cell_type": "code",
   "execution_count": 18,
   "metadata": {
    "scrolled": false
   },
   "outputs": [
    {
     "data": {
      "text/html": [
       "<div>\n",
       "<style scoped>\n",
       "    .dataframe tbody tr th:only-of-type {\n",
       "        vertical-align: middle;\n",
       "    }\n",
       "\n",
       "    .dataframe tbody tr th {\n",
       "        vertical-align: top;\n",
       "    }\n",
       "\n",
       "    .dataframe thead th {\n",
       "        text-align: right;\n",
       "    }\n",
       "</style>\n",
       "<table border=\"1\" class=\"dataframe\">\n",
       "  <thead>\n",
       "    <tr style=\"text-align: right;\">\n",
       "      <th></th>\n",
       "      <th>Source Port</th>\n",
       "      <th>Destination Port</th>\n",
       "      <th>NAT Source Port</th>\n",
       "      <th>NAT Destination Port</th>\n",
       "      <th>Action</th>\n",
       "      <th>Bytes</th>\n",
       "      <th>Bytes Sent</th>\n",
       "      <th>Bytes Received</th>\n",
       "      <th>Packets</th>\n",
       "      <th>Elapsed Time (sec)</th>\n",
       "      <th>pkts_sent</th>\n",
       "      <th>pkts_received</th>\n",
       "    </tr>\n",
       "  </thead>\n",
       "  <tbody>\n",
       "    <tr>\n",
       "      <th>0</th>\n",
       "      <td>False</td>\n",
       "      <td>False</td>\n",
       "      <td>False</td>\n",
       "      <td>False</td>\n",
       "      <td>False</td>\n",
       "      <td>False</td>\n",
       "      <td>False</td>\n",
       "      <td>False</td>\n",
       "      <td>False</td>\n",
       "      <td>False</td>\n",
       "      <td>False</td>\n",
       "      <td>False</td>\n",
       "    </tr>\n",
       "    <tr>\n",
       "      <th>1</th>\n",
       "      <td>False</td>\n",
       "      <td>False</td>\n",
       "      <td>False</td>\n",
       "      <td>False</td>\n",
       "      <td>False</td>\n",
       "      <td>False</td>\n",
       "      <td>False</td>\n",
       "      <td>False</td>\n",
       "      <td>False</td>\n",
       "      <td>False</td>\n",
       "      <td>False</td>\n",
       "      <td>False</td>\n",
       "    </tr>\n",
       "    <tr>\n",
       "      <th>2</th>\n",
       "      <td>False</td>\n",
       "      <td>False</td>\n",
       "      <td>False</td>\n",
       "      <td>False</td>\n",
       "      <td>False</td>\n",
       "      <td>False</td>\n",
       "      <td>False</td>\n",
       "      <td>False</td>\n",
       "      <td>False</td>\n",
       "      <td>False</td>\n",
       "      <td>False</td>\n",
       "      <td>False</td>\n",
       "    </tr>\n",
       "    <tr>\n",
       "      <th>3</th>\n",
       "      <td>False</td>\n",
       "      <td>False</td>\n",
       "      <td>False</td>\n",
       "      <td>False</td>\n",
       "      <td>False</td>\n",
       "      <td>False</td>\n",
       "      <td>False</td>\n",
       "      <td>False</td>\n",
       "      <td>False</td>\n",
       "      <td>False</td>\n",
       "      <td>False</td>\n",
       "      <td>False</td>\n",
       "    </tr>\n",
       "    <tr>\n",
       "      <th>4</th>\n",
       "      <td>False</td>\n",
       "      <td>False</td>\n",
       "      <td>False</td>\n",
       "      <td>False</td>\n",
       "      <td>False</td>\n",
       "      <td>False</td>\n",
       "      <td>False</td>\n",
       "      <td>False</td>\n",
       "      <td>False</td>\n",
       "      <td>False</td>\n",
       "      <td>False</td>\n",
       "      <td>False</td>\n",
       "    </tr>\n",
       "    <tr>\n",
       "      <th>...</th>\n",
       "      <td>...</td>\n",
       "      <td>...</td>\n",
       "      <td>...</td>\n",
       "      <td>...</td>\n",
       "      <td>...</td>\n",
       "      <td>...</td>\n",
       "      <td>...</td>\n",
       "      <td>...</td>\n",
       "      <td>...</td>\n",
       "      <td>...</td>\n",
       "      <td>...</td>\n",
       "      <td>...</td>\n",
       "    </tr>\n",
       "    <tr>\n",
       "      <th>65527</th>\n",
       "      <td>False</td>\n",
       "      <td>False</td>\n",
       "      <td>False</td>\n",
       "      <td>False</td>\n",
       "      <td>False</td>\n",
       "      <td>False</td>\n",
       "      <td>False</td>\n",
       "      <td>False</td>\n",
       "      <td>False</td>\n",
       "      <td>False</td>\n",
       "      <td>False</td>\n",
       "      <td>False</td>\n",
       "    </tr>\n",
       "    <tr>\n",
       "      <th>65528</th>\n",
       "      <td>False</td>\n",
       "      <td>False</td>\n",
       "      <td>False</td>\n",
       "      <td>False</td>\n",
       "      <td>False</td>\n",
       "      <td>False</td>\n",
       "      <td>False</td>\n",
       "      <td>False</td>\n",
       "      <td>False</td>\n",
       "      <td>False</td>\n",
       "      <td>False</td>\n",
       "      <td>False</td>\n",
       "    </tr>\n",
       "    <tr>\n",
       "      <th>65529</th>\n",
       "      <td>False</td>\n",
       "      <td>False</td>\n",
       "      <td>False</td>\n",
       "      <td>False</td>\n",
       "      <td>False</td>\n",
       "      <td>False</td>\n",
       "      <td>False</td>\n",
       "      <td>False</td>\n",
       "      <td>False</td>\n",
       "      <td>False</td>\n",
       "      <td>False</td>\n",
       "      <td>False</td>\n",
       "    </tr>\n",
       "    <tr>\n",
       "      <th>65530</th>\n",
       "      <td>False</td>\n",
       "      <td>False</td>\n",
       "      <td>False</td>\n",
       "      <td>False</td>\n",
       "      <td>False</td>\n",
       "      <td>False</td>\n",
       "      <td>False</td>\n",
       "      <td>False</td>\n",
       "      <td>False</td>\n",
       "      <td>False</td>\n",
       "      <td>False</td>\n",
       "      <td>False</td>\n",
       "    </tr>\n",
       "    <tr>\n",
       "      <th>65531</th>\n",
       "      <td>False</td>\n",
       "      <td>False</td>\n",
       "      <td>False</td>\n",
       "      <td>False</td>\n",
       "      <td>False</td>\n",
       "      <td>False</td>\n",
       "      <td>False</td>\n",
       "      <td>False</td>\n",
       "      <td>False</td>\n",
       "      <td>False</td>\n",
       "      <td>False</td>\n",
       "      <td>False</td>\n",
       "    </tr>\n",
       "  </tbody>\n",
       "</table>\n",
       "<p>65532 rows × 12 columns</p>\n",
       "</div>"
      ],
      "text/plain": [
       "       Source Port  Destination Port  NAT Source Port  NAT Destination Port  \\\n",
       "0            False             False            False                 False   \n",
       "1            False             False            False                 False   \n",
       "2            False             False            False                 False   \n",
       "3            False             False            False                 False   \n",
       "4            False             False            False                 False   \n",
       "...            ...               ...              ...                   ...   \n",
       "65527        False             False            False                 False   \n",
       "65528        False             False            False                 False   \n",
       "65529        False             False            False                 False   \n",
       "65530        False             False            False                 False   \n",
       "65531        False             False            False                 False   \n",
       "\n",
       "       Action  Bytes  Bytes Sent  Bytes Received  Packets  Elapsed Time (sec)  \\\n",
       "0       False  False       False           False    False               False   \n",
       "1       False  False       False           False    False               False   \n",
       "2       False  False       False           False    False               False   \n",
       "3       False  False       False           False    False               False   \n",
       "4       False  False       False           False    False               False   \n",
       "...       ...    ...         ...             ...      ...                 ...   \n",
       "65527   False  False       False           False    False               False   \n",
       "65528   False  False       False           False    False               False   \n",
       "65529   False  False       False           False    False               False   \n",
       "65530   False  False       False           False    False               False   \n",
       "65531   False  False       False           False    False               False   \n",
       "\n",
       "       pkts_sent  pkts_received  \n",
       "0          False          False  \n",
       "1          False          False  \n",
       "2          False          False  \n",
       "3          False          False  \n",
       "4          False          False  \n",
       "...          ...            ...  \n",
       "65527      False          False  \n",
       "65528      False          False  \n",
       "65529      False          False  \n",
       "65530      False          False  \n",
       "65531      False          False  \n",
       "\n",
       "[65532 rows x 12 columns]"
      ]
     },
     "execution_count": 18,
     "metadata": {},
     "output_type": "execute_result"
    }
   ],
   "source": [
    "data.isna()"
   ]
  },
  {
   "cell_type": "code",
   "execution_count": 20,
   "metadata": {},
   "outputs": [
    {
     "name": "stdout",
     "output_type": "stream",
     "text": [
      "Jumlah nilai NaN setiap kolom :\n",
      "Source Port             0\n",
      "Destination Port        0\n",
      "NAT Source Port         0\n",
      "NAT Destination Port    0\n",
      "Action                  0\n",
      "Bytes                   0\n",
      "Bytes Sent              0\n",
      "Bytes Received          0\n",
      "Packets                 0\n",
      "Elapsed Time (sec)      0\n",
      "pkts_sent               0\n",
      "pkts_received           0\n",
      "dtype: int64\n"
     ]
    }
   ],
   "source": [
    "print('Jumlah nilai NaN setiap kolom :')\n",
    "print(data.isna().sum())"
   ]
  },
  {
   "cell_type": "markdown",
   "metadata": {},
   "source": [
    "### Deteksi Outlier\n",
    "\n",
    "Kumpulan data yang berisi informasi data yang memiliki nilai atau karakteristik yang menyimpang dari yang lain, dikenal sebagai *outlier*. *Outlier* dapat dilakukan penghapusan supaya data lebih akurat karena jika *outlier* dibiarkan dapat menyebabkan kesimpulan yang tidak akurat dan keputusan yang dihasilkan salah.\n",
    "\n",
    "Metode penghapusan outlier : \n",
    "\n",
    "   - a. IQE (Interquartile Range)\n",
    "        Metode ini menggunakan nilai kuartil rentang antara kuartil pertama(Q1) dan kuartil ketiga(Q3) suatu data dengan melakukan perhitungan IQR(Q3-Q1). Nilai di luar rentang(Q1-1.5*IQR) dan (Q3+1.5*IQR) dianggap sebagao outlier dan dapat dihapus dari dataset.\n",
    "        \n",
    "   - b. Z-Score\n",
    "        Metode dengan Z-Score ini dengan melakukan perhitungan skor Z untuk setiap nilai dalam dataset. Nilai  dengan skor Z di atas atau di bawah ambang (threshold) tertentu dianggap sebagai outlier dan dapat dilakukan penghapusan. \n",
    "   - c. Transformasi Data(Transformasi Log)\n",
    "   - d. Mengganti Outlier dengan Median\n",
    "   \n",
    "       Outlier dapat diganti dengan statistik yang lebih kuat seperti median untuk mengurangi dampak yang dihasilkan terhadap analisis. Contoh code: \n",
    "        median = np.median( data ) \n",
    "        data_tanpa_outliers = np. dimana (( data < batas_bawah) | ( data > batas_atas), median, data )\n",
    "    \n",
    "    \n",
    "  Pada pengolahan data ini deteksi outlier menggunakan Z-Score. Z-Score mengukur seberapa jauh suatu titik data dari mean dalam satuan standar deviasi. Nilai Z-Score yang tinggi atau rendah menunjukkan bahwa titik data tersebut berada jauh dari rata-rata. Berikut adalah tahapan-tahapan deteksi outlier dengan Z-Score:\n",
    "  \n",
    "  1.) Hitung rata-rata dan standar deviasi\n",
    "    \n",
    "   - Melakukan perhitungan rata-rata ($\\mu$) dan standar deviasi ($\\sigma$)dari dataset\n",
    "   \n",
    "   $\\mu =\\frac{\\sum_{i=1}^{n}x_i}{n} $\n",
    "   \n",
    "   $\\sigma = \\sqrt\\frac{\\sum{i=1}^n x_i - \\mu}{n}$\n",
    "   \n",
    "   \n",
    "2.) Hitung Z-Score untuk setiap data\n",
    " - Hitung Z-score untuk setiap titik data dalam dataset dengan rumus berikut : \n",
    "  \n",
    "  $Z_i = \\frac{x_i -\\mu}{\\mu}$\n",
    "  \n",
    "  $x_i$ adalah nilai titik data, $\\mu$ adalah rata-rata, dan $\\sigma$ adalah standar deviasi.\n",
    "\n",
    "3.) Tentukan ambang batas(threshold)\n",
    "- Menentukan ambang batas(threshold) yang akan digunakan untuk mengidentifikasi outlier.\n",
    "\n",
    "4.) Identifikasi outlier\n",
    "- Mengidentifikasi titik data yang memiliki nilai Z-Score di atas atau di bawah nilai ambang batas yang ditentukan sebagai outlier. Titik-titik ini dianggap jauh dari rata-rata dan dianggap sebagai nilai yang tidak biasa dalam dataset.\n",
    "\n",
    "Contoh implementasi perhitungan manual dengan menggunakan algoritma Z-Score pada data berikut ini:\n",
    "\n",
    "\n",
    "\\begin{array}{ccc}\n",
    "\\hline\n",
    "X & Y & Z \\\\\n",
    "\\hline\n",
    "10 & 25 & 5 \\\\\n",
    "\\hline\n",
    "15 &30 & 8\\\\\n",
    "\\hline\n",
    "12&35&10 \\\\\n",
    "\\hline\n",
    "8 & 22 & 4 \\\\\n",
    "\\hline\n",
    "14&40&15 \\\\\n",
    "\\hline\n",
    "16&38&12\\\\\n",
    "\\hline\n",
    "20&28&18\n",
    "\\end{array}\n",
    "\\\n",
    "  1.) Hitung rata-rata dan standar deviasi\n",
    "    \n",
    "   - Melakukan perhitungan rata-rata ($\\mu$) dan standar deviasi ($\\sigma$)dari dataset\n",
    "   \n",
    "   $Rata-rata(\\mu_X) =\\frac{\\sum{X}}{n} = \\frac{10+15+12+8+14+16+20}{7}= 14 $\n",
    "   \n",
    "   $Standar Deviasi(\\sigma_X) = \\sqrt\\frac{\\sum{(X- \\mu_X)}^2 }{n} = \\sqrt\\frac{(10-14)^2 +(15-14)^2+(12-14)^2+(8-14)^2+(14-14)^2+(16-14)^2+(20-14)^2}{7} = 3.72 $\n",
    "   \n",
    "   $Rata-rata(\\mu_Y) =\\frac{\\sum{Y}}{n} = \\frac{25+30+35+22+40+38+28}{7}= 31 $\n",
    "   \n",
    "   $Standar Deviasi(\\sigma_Y) = \\sqrt\\frac{\\sum{(Y- \\mu_Y)}^2 }{n} = \\sqrt\\frac{(25-31)^2 +(30-31)^2+(35-31)^2+(22-31)^2+(40-31)^2+(38-31)^2+(28-31)^2}{7}= 6.24 $\n",
    "   \n",
    "   $Rata-rata(\\mu_Z) =\\frac{\\sum{Z}}{n} = \\frac{5+8+10+4+15+12+18}{7}= 10.3$\n",
    "   \n",
    "   $Standar Deviasi(\\sigma_Z) = \\sqrt\\frac{\\sum{(Z- \\mu_Z)}^2 }{n} = \\sqrt\\frac{(10-10.3)^2 +(15-10.3)^2+(12-10.3)^2+(8-10.3)^2+(14-10.3)^2+(16-10.3)^2+(20-10.3)^2}{7}= 4.7 $\n",
    "   \n",
    "2.) Hitung Z-Score untuk setiap data\n",
    " - Hitung Z-score untuk setiap titik data dalam dataset dengan rumus berikut : \n",
    "  \n",
    "  $Z_X = \\frac{X -\\mu_X}{\\sigma_X}$\n",
    " \n",
    "  $Z_Y = \\frac{Y -\\mu_Y}{\\sigma_Y}$\n",
    "  \n",
    "  $Z_Z = \\frac{Z -\\mu_Z}{\\sigma_Z}$\n",
    "\n",
    "3.) Tentukan ambang batas(threshold)\n",
    "- Misalnya, menentukan nilai ambang batas sebagai $\\pm 2$ standar deviasi.\n",
    "\n",
    "4.) Identifikasi outlier\n",
    " \n",
    " $Outlier_X :$ Jika $|Z_x| > $Threshold, maka outlier\n",
    " \n",
    "  $Outlier_Y :$ Jika $|Z_x| > $Threshold, maka outlier\n",
    "  \n",
    "   $Outlier_Z :$ Jika $|Z_x| > $Threshold, maka outlier\n",
    "   \n",
    "5.) Hasil\n",
    "\n",
    "\n",
    "\n",
    "| Data point | X | Y | Z | $Z_x$ | $Z_x$ | $Z_x$ |Outlier|\n",
    "|------------|---|---|---|-------|-------|-------|-------|\n",
    "| 1|10 | 25 |5 |-1.08|-0.96|-1.11|No|\n",
    "| 2|15 | 30 |8 |0.27|-0.16|-0.49|No|\n",
    "|3|12 | 35 |10 |-0.54|0.64|-0.06|No|\n",
    "|4| 8 | 22 |4 |-1.61|-1.44|−1.32|Yes|\n",
    "|5| 14 | 40 |15 |0.00|1.44|1.00|No|\n",
    "|6| 16 | 38 |12 |0.54|1.12|0.36|No|\n",
    "|7| 20 | 28 |18 |1.61|-0.48|1.62|No|\n",
    "\n",
    "Pada data point 1\n",
    "   - |$Z_X$| = |-1.08| = 1.08 tidak melebih threshold, sehingga data point 1 pada fitur X bukan outlier.\n",
    "\n",
    "   - |$Z_Y$| = |-0.96| = 0.96 tidak melebih threshold, sehingga data point 1 pada fitur Y bukan outlier.  \n",
    "\n",
    "   - |$Z_Z| = |-1.11|= 1.11 tdak melebih threshold, sehingga data point 1 pada fitur Z bukan outlier.\n",
    "   \n",
    "Pada data point 2\n",
    "   - |$Z_X$| = |0.27| = 0.27 tidak melebihi threshold, sehingga data point 1 pada fitur X bukan outlier.\n",
    "\n",
    "   - |$Z_Y$| = |-0.16| = 0.16 tidak melebihi threshold, sehingga data point 1 pada fitur Y bukan outlier.  \n",
    "\n",
    "   - |$Z_Z| = |-0.49| =0.49 tidak melebihi threshold, sehingga data point 1 pada fitur Z bukan outlier.\n",
    "   "
   ]
  },
  {
   "cell_type": "markdown",
   "metadata": {},
   "source": [
    "  Pada data firewall ini dilakukan deteksi outlier dilakukan pada kolom yang berisi nilai numeric menggunakan ZScore.Deteksi outlier tidak perlu dilakukan di semua kolom atau fitur dalam dataset.  Pada datset ini yang dilakukan deteksi outlier adalah pada kolom 'Bytes', 'Bytes Sent', 'Bytes Received', 'Packets', 'Elapsed Time (sec)', 'pkts_sent', 'pkts_received' karena pada kolom ini sebagai variabel kuantitatif . Deteksi outlier tersebut didapatkan dengan hasil masing-masing kolom memiliki nilai outlier 1640."
   ]
  },
  {
   "cell_type": "code",
   "execution_count": 21,
   "metadata": {
    "scrolled": true
   },
   "outputs": [
    {
     "name": "stdout",
     "output_type": "stream",
     "text": [
      "Indeks baris yang memiliki outlier:\n",
      "[    2   121   122 ... 65290 65296 65296]\n",
      "Nilai outlier untuk setiap kolom:\n",
      "          Bytes  Bytes Sent  Bytes Received  Packets  Elapsed Time (sec)  \\\n",
      "2           238         118             120        2                1199   \n",
      "121         870         330             540       12                2308   \n",
      "122     8171028      105740         8065288     6637                 149   \n",
      "124         481         150             331        2                1200   \n",
      "335         330         330               0        6                1200   \n",
      "...         ...         ...             ...      ...                 ...   \n",
      "65286       481         150             331        2                1199   \n",
      "65289       118         118               0        1                1199   \n",
      "65290       324         150             174        2                1201   \n",
      "65296  11381441      121813        11259628     9309                 119   \n",
      "65296  11381441      121813        11259628     9309                 119   \n",
      "\n",
      "       pkts_sent  pkts_received  \n",
      "2              1              1  \n",
      "121            6              6  \n",
      "122          745           5892  \n",
      "124            1              1  \n",
      "335            6              0  \n",
      "...          ...            ...  \n",
      "65286          1              1  \n",
      "65289          1              0  \n",
      "65290          1              1  \n",
      "65296       1741           7568  \n",
      "65296       1741           7568  \n",
      "\n",
      "[1640 rows x 7 columns]\n",
      "Jumlah outlier untuk setiap kolom:\n",
      "                    Outlier Count\n",
      "Bytes                        1640\n",
      "Bytes Sent                   1640\n",
      "Bytes Received               1640\n",
      "Packets                      1640\n",
      "Elapsed Time (sec)           1640\n",
      "pkts_sent                    1640\n",
      "pkts_received                1640\n"
     ]
    }
   ],
   "source": [
    "numeric_columns = ['Bytes', 'Bytes Sent', 'Bytes Received', 'Packets', 'Elapsed Time (sec)', 'pkts_sent', 'pkts_received']\n",
    "\n",
    "# Menghitung Z-score untuk setiap kolom numerik\n",
    "z_scores = np.abs(stats.zscore(data[numeric_columns]))\n",
    "# Menentukan ambang batas Z-score (misalnya, 3)\n",
    "threshold = 3\n",
    "\n",
    "# Mengidentifikasi indeks baris yang memiliki outlier\n",
    "outlier_indices = np.where(z_scores > threshold)\n",
    "\n",
    "# Mengidentifikasi indeks baris yang memiliki outlier\n",
    "outlier_indices = np.where(z_scores > threshold)\n",
    "print(\"Indeks baris yang memiliki outlier:\")\n",
    "print(outlier_indices[0])\n",
    "print(\"Nilai outlier untuk setiap kolom:\")\n",
    "outlier_values = data.iloc[outlier_indices[0]][numeric_columns]\n",
    "print(outlier_values)\n",
    "print(\"Jumlah outlier untuk setiap kolom:\")\n",
    "outlier_counts = pd.DataFrame(outlier_values.apply(lambda x: x.count(), axis=0), columns=['Outlier Count'])\n",
    "print(outlier_counts)"
   ]
  },
  {
   "cell_type": "markdown",
   "metadata": {},
   "source": [
    "Penjelasan :\n",
    "1. Menghitung Z-score \n",
    "        \n",
    "     - Menggunakan stats.zscore dari modul scipy untuk menghhitung Z-score setiap nilai dalam kolom numerik.\n",
    "2. Menentukan ambang batas\n",
    "    - Dengan menggunakan ambang batas tertentu digunakan untuk mengidentifikasi outlier. Dalam contoh ini, ambang batas diatur sebagai 3, yang merupakan nilai ambang batas yang umum digunakan.\n",
    " \n",
    "3. Mengidentifikasi Indeks Baris dengan Outlier\n",
    "    - Menggunakan np.where untuk mengidentifikasi indeks baris yang memiliki nilai Z-score melebihi ambang batas. Outlier diidentifikasi jika nilai Z-score melebihi ambang batas.\n",
    "  \n",
    "4. Menampilkan Indeks Baris dan Nilai Outlier dengan 'np.where' \n",
    "\n",
    "5. Menghitung dan menampilkan Jumlah Outlier untuk Setiap Kolom:\n",
    "    - Menggunakan apply dan lambda:\n",
    "        \n",
    "        - outlier_values.apply(lambda x: x.count(), axis=0) digunakan untuk mengiterasi melalui setiap kolom dalam outlier_values dan menghitung jumlah nilai yang bukan NaN (tidak termasuk nilai yang hilang) dalam setiap kolom.\n",
    "\n",
    "        - pd.DataFrame(..., columns=['Outlier Count']) digunakan untuk membuat DataFrame baru dengan nama kolom \"Outlier Count\". Outlier count berisi total  dari nilai yang diidentifikasi sebagai oulier dalam kolom tersebut.\n",
    "        - Hasil dari langkah pertama, yaitu jumlah outlier untuk setiap kolom, dimasukkan ke dalam kolom ini."
   ]
  },
  {
   "cell_type": "markdown",
   "metadata": {},
   "source": [
    "### Proporsi data\n",
    "\n",
    "Berdasarkan identifikasi jumlah data pada 4 kelas  terdapat ketidakseimbangan data, beberapa kelas memiliki lebih banyak sampel daripada yang lain. Karena ketidakseimbangan dapat mempengaruhi kinerja model, karena model dapat cenderung memprediksi kelas mayoritas. Maka data ini perlu dilakukan balancing data."
   ]
  },
  {
   "cell_type": "code",
   "execution_count": 22,
   "metadata": {},
   "outputs": [
    {
     "name": "stdout",
     "output_type": "stream",
     "text": [
      "Sebaran kelas target pada kolom Action\n",
      "allow         37640\n",
      "deny          14987\n",
      "drop          12851\n",
      "reset-both       54\n",
      "Name: Action, dtype: int64\n"
     ]
    }
   ],
   "source": [
    "print(\"Sebaran kelas target pada kolom Action\")\n",
    "print(action_counts)"
   ]
  },
  {
   "cell_type": "markdown",
   "metadata": {},
   "source": [
    "**Seleksi fitur**\n",
    "\n",
    "Berdasarkan banyak fitur pada data ini yaitu 12 fitur dengan 1 fitur adalah target atau kelas. Jadi terdapat 11 fitur yang akan dipertimbangkan, kolom mana yang memiliki pengaruh tinggi. Untuk mendapatkan fitur yang memiliki pengaruh tinggi perlu dilakukan seleksi fitur. \n",
    "\n",
    "Cara kerja seleksi fitur ialah dengan menentukan fitur yang paling relevan dan melakukan pembobotan pada setiap fitur. Seleksi fitur sendiri bertujuan untuk meningkatkan efisiensi dan efektivitas hasil dari kinerja algpritma klasifikasi (Buani, 2021)"
   ]
  },
  {
   "cell_type": "markdown",
   "metadata": {
    "id": "54zgValWtGlE"
   },
   "source": [
    "## 3. PREPROCESSING\n",
    "Tahap preprocessing adalah tahapan untuk mempersiapkan data sebelum dilakukan pembuatan model. Pada tahap preprocessing, data akan dibersihkan, diubah, dan disesuaikan agar data sesuai dengan kebutuhan pada model machine learning yang akan digunakan. \n",
    "Tahap preprocessing merupakan langkah-langkah untuk membersihkan dan menyiapkan data sebelum memasukkan ke dalam model. \n",
    "\n",
    "Preprocessing yang akan dilakukan berdasarkan tahap data understanding yaitu :\n",
    "    \n",
    "- Menghapus duplikat data\n",
    "- Menghapus Outlier\n",
    "- Proporsi data yang tidak seimbang , sehingga  perlu dilakukan balancing data\n",
    "- Encoding pada kolom 'Action' yang merupakan bukan tipe data numerik\n",
    "- Seleksi Fitur \n",
    "- Split dataset\n",
    "- Normalisasi"
   ]
  },
  {
   "cell_type": "markdown",
   "metadata": {},
   "source": [
    "### Menghapus Duplikat data\n",
    "\n",
    "Pada dua baris dianggap duplikat jika seluruh nilai dalam baris tersebut bernilai sama persis. Pada implementasi ini, menggunakan fungsi 'drop_duplicates' untuk menghapus duplikat. Pada tahap data understanding sebelumnya, telah melakukan pengecekan banyak data yang teridentifikasi duplikat, sehingga pada tahap preprocessing ini dilakukan penghapusan data duplikat yang dapat mengganggu analisis dan menghasilkan hasil yang tidak akurat.  . Dengan menggunakan library pandas, dapat menggunakan 'drop_duplicates()' untuk membersihkan DataFrame dari baris-baris yang identik atau duplikat."
   ]
  },
  {
   "cell_type": "code",
   "execution_count": 23,
   "metadata": {
    "id": "1GjDdNOdzBwd"
   },
   "outputs": [],
   "source": [
    "# variabel data yang menyimpan data dilakukan drop atau penghapusan data yang  duplikat\n",
    "data.drop_duplicates(inplace=True)"
   ]
  },
  {
   "cell_type": "markdown",
   "metadata": {},
   "source": [
    "Untuk melakukan penghapusan data yang duplikat dengan menggunakan perintah di bawah ini :\n",
    "\n",
    "- 'data' : data adlaah variabel yang menyimpan dataset atau sebagai objek DataFrame \n",
    "\n",
    "- 'drop_duplicates' : Metode ini digunakan untuk menghapus baris yang teridentifikasi duplikat pada DataFrame. FUngsi ini akan mempertahankan satu abris dari setiap duplikat dan baris duplikat lainnya akan dihapus.\n",
    "\n",
    "- 'inplace=True' : Parameter ini idgunakan untuk mengubah DataFrame yang ada secara langsung tanpa membuat salinan data baru. Namun, jika 'inplace=False', metode ini akan mengembalikan DataFrame  yang sudah diubah atau pada tahap ini sudah dilakukan penghapusan.\n",
    "\n",
    "    Jika terdapat baris-baris duplikat dalam DataFrame, mereka akan dihapus, dan DataFrame akan diubah secara langsung (jika inplace=True). Jika tidak ada duplikat, DataFrame tetap tidak berubah."
   ]
  },
  {
   "cell_type": "markdown",
   "metadata": {},
   "source": [
    "### Menghapus Outlier Data"
   ]
  },
  {
   "cell_type": "code",
   "execution_count": 24,
   "metadata": {
    "colab": {
     "base_uri": "https://localhost:8080/"
    },
    "id": "3sCFQg0W3xpe",
    "outputId": "0f1e225d-fe7f-4eac-d6a5-ec6c2872dbbc"
   },
   "outputs": [
    {
     "name": "stdout",
     "output_type": "stream",
     "text": [
      "Indeks baris yang memiliki outlier:\n",
      "[    2   121   122 ... 56994 57000 57000]\n",
      "Nilai outlier untuk setiap kolom:\n",
      "          Bytes  Bytes Sent  Bytes Received  Packets  Elapsed Time (sec)  \\\n",
      "2           238         118             120        2                1199   \n",
      "121         870         330             540       12                2308   \n",
      "122     8171028      105740         8065288     6637                 149   \n",
      "124         481         150             331        2                1200   \n",
      "335         330         330               0        6                1200   \n",
      "...         ...         ...             ...      ...                 ...   \n",
      "65286       481         150             331        2                1199   \n",
      "65289       118         118               0        1                1199   \n",
      "65290       324         150             174        2                1201   \n",
      "65296  11381441      121813        11259628     9309                 119   \n",
      "65296  11381441      121813        11259628     9309                 119   \n",
      "\n",
      "       pkts_sent  pkts_received  \n",
      "2              1              1  \n",
      "121            6              6  \n",
      "122          745           5892  \n",
      "124            1              1  \n",
      "335            6              0  \n",
      "...          ...            ...  \n",
      "65286          1              1  \n",
      "65289          1              0  \n",
      "65290          1              1  \n",
      "65296       1741           7568  \n",
      "65296       1741           7568  \n",
      "\n",
      "[1582 rows x 7 columns]\n",
      "Jumlah outlier untuk setiap kolom:\n",
      "                    Outlier Count\n",
      "Bytes                        1582\n",
      "Bytes Sent                   1582\n",
      "Bytes Received               1582\n",
      "Packets                      1582\n",
      "Elapsed Time (sec)           1582\n",
      "pkts_sent                    1582\n",
      "pkts_received                1582\n",
      "Data setelah dibersihkan dari outlier\n",
      "       Source Port  Destination Port  NAT Source Port  NAT Destination Port  \\\n",
      "0            57222                53            54587                    53   \n",
      "1            56258              3389            56258                  3389   \n",
      "3            50553              3389            50553                  3389   \n",
      "4            50002               443            45848                   443   \n",
      "5            51465               443            39975                   443   \n",
      "...            ...               ...              ...                   ...   \n",
      "65526        51710             43069            65147                 43069   \n",
      "65527        63691                80            13237                    80   \n",
      "65528        50964                80            13485                    80   \n",
      "65529        54871               445                0                     0   \n",
      "65530        54870               445                0                     0   \n",
      "\n",
      "      Action    Bytes  Bytes Sent  Bytes Received  Packets  \\\n",
      "0      allow      177          94              83        2   \n",
      "1      allow     4768        1600            3168       19   \n",
      "3      allow     3327        1438            1889       15   \n",
      "4      allow    25358        6778           18580       31   \n",
      "5      allow     3961        1595            2366       21   \n",
      "...      ...      ...         ...             ...      ...   \n",
      "65526  allow       70          70               0        2   \n",
      "65527  allow      314         192             122        6   \n",
      "65528  allow  4680740       67312         4613428     4675   \n",
      "65529   drop       70          70               0        1   \n",
      "65530   drop       70          70               0        1   \n",
      "\n",
      "       Elapsed Time (sec)  pkts_sent  pkts_received  \n",
      "0                      30          1              1  \n",
      "1                      17         10              9  \n",
      "3                      17          8              7  \n",
      "4                      16         13             18  \n",
      "5                      16         12              9  \n",
      "...                   ...        ...            ...  \n",
      "65526                   8          2              0  \n",
      "65527                  15          4              2  \n",
      "65528                  77        985           3690  \n",
      "65529                   0          1              0  \n",
      "65530                   0          1              0  \n",
      "\n",
      "[55805 rows x 12 columns]\n"
     ]
    }
   ],
   "source": [
    "numeric_columns = ['Bytes', 'Bytes Sent', 'Bytes Received', 'Packets', 'Elapsed Time (sec)', 'pkts_sent', 'pkts_received']\n",
    "\n",
    "# Menghitung Z-score untuk setiap kolom numerik\n",
    "z_scores = np.abs(stats.zscore(data[numeric_columns]))\n",
    "# Menentukan ambang batas Z-score (misalnya, 3)\n",
    "threshold = 3\n",
    "\n",
    "# Mengidentifikasi indeks baris yang memiliki outlier\n",
    "outlier_indices = np.where(z_scores > threshold)\n",
    "\n",
    "# Mengidentifikasi indeks baris yang memiliki outlier\n",
    "outlier_indices = np.where(z_scores > threshold)\n",
    "print(\"Indeks baris yang memiliki outlier:\")\n",
    "print(outlier_indices[0])\n",
    "\n",
    "print(\"Nilai outlier untuk setiap kolom:\")\n",
    "outlier_values = data.iloc[outlier_indices[0]][numeric_columns]\n",
    "print(outlier_values)\n",
    "\n",
    "print(\"Jumlah outlier untuk setiap kolom:\")\n",
    "outlier_counts = pd.DataFrame(outlier_values.apply(lambda x: x.count(), axis=0), columns=['Outlier Count'])\n",
    "print(outlier_counts)\n",
    "\n",
    "# Menghapus baris yang memiliki outlier\n",
    "data_cleaned = data.drop(data.index[outlier_indices[0]])\n",
    "\n",
    "print(\"Data setelah dibersihkan dari outlier\")\n",
    "print(data_cleaned)\n"
   ]
  },
  {
   "cell_type": "markdown",
   "metadata": {
    "id": "vI8SB2DeAFgv"
   },
   "source": [
    "### Balancing Data"
   ]
  },
  {
   "cell_type": "markdown",
   "metadata": {
    "id": "B1E_QloVSP3k"
   },
   "source": [
    "Balancing data dilakukan menggunakan RandomOverSampler. Dari hasil pengujian didapatkan hasil terbaik menggunakan RandomOverSampler meningkatkan akurasi prediksi.Hasil penelitian yang dilakukan oleh Iwan Binanto menyatakan bahwa dengan menggunakan balancing Random Over Sampler didapatkan akurasi yang tinggi pada permodelan. Metode balancing RandomOverSampler bertujuan untuk menambahkan salinan acak dari sampel-sampel yang sudah ada pada kelas tersebut. Proses kerja sebagai berikut :\n",
    "- menentukan kelas minorittas yang memiliki jumlah sampel yang lebih sedikit\n",
    "- menentukan jumlah sampel tambahan, dengan menghitung perbedaan jumlah pada mayoritas dan minoritas."
   ]
  },
  {
   "cell_type": "markdown",
   "metadata": {
    "id": "rAM3uLfb1IQx"
   },
   "source": [
    "Penanganan Imbalance data jika kolom target Action terdapat ketidakseimbangan berupa oversampling atau undersampling\n",
    "\n",
    "Algoritma Random Over Sampler :\n",
    "\n",
    "1) Hitung jumlah sampel kelas mayoritas dan kelas minoritas\n",
    "\n",
    "    - Nmayoritas : Jumlah sampel pada kelas mayoritas\n",
    "    - Nminority : \n",
    "\n",
    "2) Hitung jumlah yang perlu ditambahkan \n",
    "    \n",
    "    - Nnew = Nmayoritas - Nminoritas \n",
    "    \n",
    "    Hasil dari Nnew ini adalah yang akan ditambahkan pada kelas minoritas agar seimbang dengan kelas mayoritas.\n",
    "    \n",
    "\n",
    "3) Pilih instansi secara acak dari kelas minoritas\n",
    "\n",
    "   - Pilih Nnew sampel secara acak dari kelas minoritas untuk ditambahkan ke dataset\n",
    "\n",
    "4) Tambahkan Sampel Baru ke Dataset:\n",
    "\n",
    "- Tambahkan Nnew instansi yang dipilih ke dataset\n",
    "\n",
    "Contoh perhitungan manual :\n",
    "\n",
    "1. Hitung jumlah sampel kelas mayoritas dan kelas minoritas \n",
    "    \n",
    "    - Nmayoritas = 100 \n",
    "    - Nminoritas = 30\n",
    "    \n",
    "2) Hitung jumlah yang perlu ditambahkan \n",
    "\n",
    "    - Nnew = Nmayoritas - Nminoritas = 100 - 30 = 70\n",
    "\n",
    "3) Pilih sampel secara acak dari kelas minoritas\n",
    "\n",
    "    - Secara acak memilih 70 sampel dari kelas minoritas \n",
    "4) Tambahkan Sampel Baru ke Dataset\n",
    "\n",
    "    - Tambahkan 70 sampel yang dipilih ke dalam dataset."
   ]
  },
  {
   "cell_type": "markdown",
   "metadata": {},
   "source": [
    "Dengan menggunakan bahasa pemrogra,an python, untuk melakukan penerapan metode balancing Random Over Sampler dengan mengunakan library untuk oversampling , seperti imbalanced-learn dari imblearn. Berikut adalah penggunaan Random Over Sampler :"
   ]
  },
  {
   "cell_type": "code",
   "execution_count": 25,
   "metadata": {
    "id": "cxt4AT9DYLyd"
   },
   "outputs": [],
   "source": [
    "from imblearn.over_sampling import RandomOverSampler\n",
    "from collections import Counter"
   ]
  },
  {
   "cell_type": "markdown",
   "metadata": {},
   "source": [
    "Data sebelum di balancing, dilakukan pemisahan fitur dan target"
   ]
  },
  {
   "cell_type": "code",
   "execution_count": 26,
   "metadata": {
    "colab": {
     "base_uri": "https://localhost:8080/"
    },
    "id": "jIJmlfm21ew8",
    "outputId": "8cc463df-a217-4d12-f1f6-90dcac91936d",
    "scrolled": true
   },
   "outputs": [
    {
     "name": "stdout",
     "output_type": "stream",
     "text": [
      "Output data asli sebelum dilakukan balancing data\n",
      "Counter({'allow': 37439, 'drop': 11635, 'deny': 8042, 'reset-both': 54})\n"
     ]
    }
   ],
   "source": [
    "X = data.drop('Action', axis=1)\n",
    "y = data['Action']\n",
    "print(\"Output data asli sebelum dilakukan balancing data\")\n",
    "print( Counter(y))"
   ]
  },
  {
   "cell_type": "code",
   "execution_count": 27,
   "metadata": {
    "colab": {
     "base_uri": "https://localhost:8080/"
    },
    "id": "0iazSX0810X7",
    "outputId": "02290a59-cea4-437c-bc70-e3f8f04b26e6"
   },
   "outputs": [
    {
     "name": "stdout",
     "output_type": "stream",
     "text": [
      "Output data resampled :  Counter({'allow': 37439, 'drop': 37439, 'deny': 37439, 'reset-both': 37439})\n"
     ]
    }
   ],
   "source": [
    "# inisialisasi randomOverSampler dengan variabel ros\n",
    "ros = RandomOverSampler(random_state=42)\n",
    "# Melakukan oversampling pada dataset\n",
    "X_ros, y_ros = ros.fit_resample(X,y)\n",
    "print('Output data resampled : ', Counter(y_ros))"
   ]
  },
  {
   "cell_type": "markdown",
   "metadata": {},
   "source": [
    "Pada proses oversampling dataset , 'X' adalah matriks fitur dan 'y' adlaah vektor target. Metode 'fit_resample' akan melakukanobversampling pada dataset dan mengembalikan dataset yang baru yang sudah dilakukan oversample."
   ]
  },
  {
   "cell_type": "code",
   "execution_count": 28,
   "metadata": {
    "colab": {
     "base_uri": "https://localhost:8080/"
    },
    "id": "cH1KR_mj2QP_",
    "outputId": "72a9fb3d-1b4b-4844-af7c-f77e6320b159"
   },
   "outputs": [
    {
     "name": "stdout",
     "output_type": "stream",
     "text": [
      "Jumlah data setelah dilakukan balancing resampled : \n",
      "Features (149756, 11)\n",
      "Target (149756,)\n"
     ]
    }
   ],
   "source": [
    "print('Jumlah data setelah dilakukan balancing resampled : ')\n",
    "print('Features',X_ros.shape)\n",
    "print('Target',y_ros.shape)"
   ]
  },
  {
   "cell_type": "markdown",
   "metadata": {},
   "source": [
    "Data yang semula berjumlah 65532 disimpan di variabel 'data', setelah dilakukan preprocessing penghapusan data duplikat dan data oulier kemudian dilakukan balancing data berubah menjadi 149756. Setelah melakukan balancing data, data akan disimpan menjadi data baru lagi. Pada data ini, data yang telah diakukan pembersihan dan balancing data disimpan di variabel balanced_data."
   ]
  },
  {
   "cell_type": "code",
   "execution_count": 29,
   "metadata": {},
   "outputs": [],
   "source": [
    "# Menggabungkan kembali X_ros dan y_ros menjadi DataFrame\n",
    "balanced_data = pd.DataFrame(X_ros, columns=X.columns)\n",
    "balanced_data['Action'] = y_ros.reset_index(drop=True)"
   ]
  },
  {
   "cell_type": "markdown",
   "metadata": {},
   "source": [
    "Setelah dilakukan penerapan metode balancing Oversampling, jumlah data dalam dataset meningkat. Karena Oversampling ini menambahkan jumlah sampel dari kelas minoritas dengan cara menggandakan atau  menambahkan variasi pada sampel yang sudah ada."
   ]
  },
  {
   "cell_type": "code",
   "execution_count": 30,
   "metadata": {},
   "outputs": [
    {
     "name": "stdout",
     "output_type": "stream",
     "text": [
      "Jumlah Data Firewall : 149756\n"
     ]
    }
   ],
   "source": [
    "jumlah_data = balanced_data.shape[0]\n",
    "print(\"Jumlah Data Firewall :\", jumlah_data)"
   ]
  },
  {
   "cell_type": "code",
   "execution_count": 31,
   "metadata": {
    "colab": {
     "base_uri": "https://localhost:8080/",
     "height": 330
    },
    "id": "upBeNduSsX4U",
    "outputId": "6b9fbd6c-fe4b-4e0f-b7d7-25b8931b47b8",
    "scrolled": true
   },
   "outputs": [
    {
     "data": {
      "image/png": "[encoded data removed]",
      "text/plain": [
       "<Figure size 864x432 with 2 Axes>"
      ]
     },
     "metadata": {
      "needs_background": "light"
     },
     "output_type": "display_data"
    }
   ],
   "source": [
    "plt.figure(figsize=(12, 6))\n",
    "\n",
    "plt.subplot(1, 2, 1)\n",
    "sns.countplot(x='Action', data=data, palette='Set1')\n",
    "plt.title(\"Distribusi Kelas Data Imbalance\")\n",
    "plt.xlabel(\"Action\")\n",
    "plt.ylabel(\"Jumlah\")\n",
    "# plt.show()\n",
    "\n",
    "plt.subplot(1, 2, 2)\n",
    "sns.countplot(x='Action', data=pd.DataFrame(y_ros, columns=['Action']), palette='Set2')\n",
    "plt.title(\"Distribusi Kelas Data Setelah Balancing\")\n",
    "plt.xlabel(\"Action\")\n",
    "plt.ylabel(\"Jumlah\")\n",
    "plt.tight_layout()\n",
    "plt.show()"
   ]
  },
  {
   "cell_type": "markdown",
   "metadata": {},
   "source": [
    "### Encoder\n",
    "\n",
    "Label Encoder digunakan untuk mengkonversi nilai pada kolom target 'Action' yang semula bersifat kategorikal 'allow' , 'deny', 'drop', dan 'reset both' diubah menjadi numerik.\n",
    "\n"
   ]
  },
  {
   "cell_type": "code",
   "execution_count": 32,
   "metadata": {
    "id": "-KTPyNsHQT4H"
   },
   "outputs": [],
   "source": [
    "X_ros = balanced_data.drop(columns=['Action'])\n",
    "label_encoder = LabelEncoder()\n",
    "y_ros = label_encoder.fit_transform(balanced_data['Action'])"
   ]
  },
  {
   "cell_type": "markdown",
   "metadata": {},
   "source": [
    "Penjelasan :\n",
    "    \n",
    "- X_ros sebagai variabel yang menghapus kolom target dari dataset awal.\n",
    "\n",
    "- label_encoder = LabelEncoder() membuat objek dari kelas LabelEncoder. LabelEncoder digunakan untuk mengubah label kategori menjadi bilangan bulat.\n",
    "\n",
    "- y_rose sebagai avriabel yang menyimpan label yang telah diubah menjadi bentuk numerik. Dengan 'fit_transform ()' mempelajari mapping antara tabel kategori dan bilangan bulat yang kemudian mengubah label katgeori menjadi bilangan bulat(transform)"
   ]
  },
  {
   "cell_type": "markdown",
   "metadata": {
    "id": "p9WnbjAzrQaR"
   },
   "source": [
    "### Fiture Selection"
   ]
  },
  {
   "cell_type": "markdown",
   "metadata": {
    "id": "6cUCQn0BSV6j"
   },
   "source": [
    "Dalam menghasilnya performa pengolahan data, fungsi dari proses seleksi fitur menghasilkan dataset yang lebih ramping karena dalam seleksi fittur akan dilakukan pengurangan jumlah fitur / atribut yang diperoleh dari pengukuran fitur-fitur yang memiliki pengaruh signifkan terhadap kelas. Dalam seleksi fitur terdapat metode-metode yang digunakan untuk mengetahui fitur yang memberikan pengaruh terhadap kelas dari dataset yang digunakan.\n",
    "\n",
    "Macam-macam seleksi fitur:\n",
    "- Information Gain\n",
    "\n",
    "    Seleksi fitur Information Gain dengan mengukur sejauh mana suatu fitur memberikan informasi yang berguna dalam memprediksi label kelas.\n",
    "- Correlation Based\n",
    "\n",
    "    Seleksi fitur Correlation Based dengan memilih fitur berdasarkan tingkat korelasi dengan variabel target. \n",
    "- Learner Based\n",
    "\n",
    "    Seleksi Learner Based melibatkan penggunaan model pembelajaran untuk mengevaluasi kontribusi setiap fitur. Model dibangun untuk memprediksi target, dan fitur dinilai berdasarkan pengaruhnya terhadap kinerja model.\n",
    "- Mutual Information\n",
    "\n",
    "    Seleksi fitur Mutual Information mengukur sejauh mana pengetahuan tentang nilai satu variabel memberikan informasi tentang nilai variabel lainnya. Pada mutual innformation, dengan menggunakan 'mutual_info_classif digunakan untuk mengevaluasi relevansi antara fitur-fitur dan kelas target dalam menanagani masalah klasifikasi. entropy\n",
    "- Principal Component Analysis (PCA)\n",
    "\n",
    "    Seleksi fitur dengan PCA digunakan untuk mengurangi dimensi data ke ruang fitur yang lebih rendah. Komponen utama yang dihasilkan adalah kombinasi linear dari fitur asli yang menyimpan varian maksimal.\n",
    "- Genetic Alghoritms\n",
    "    Seleksi fitur genetic algorithms menerapkan konsep seleksi alam untuk menemukan subset fitur yang optimal. Pada genetic algorithms menggunakan konsep seleksi, crossover, dan mutasi untuk menghasilkan generasi baru dari subset fitur dan meningkatkan kualitasnya seiring waktu.\n",
    "\n",
    "Pada tahap seleksi fitur pengolahan data klasifikasi ini dengan menggunakan mutual information. \n",
    "\n",
    "**Rumus Mutual Information**\n",
    ")=\n",
    "$$I(A;Y) = \\sum P(A,Y) .log_2 (\\frac{P(A,Y)}{P(A).P(Y)}) $$\n",
    "dimana $P(A,Y)$ adalah probabilitas kombinasi nilai $(A, Y), P(A)$ adalah probabilitas nilai A, dan $P(Y)$ adalah probabilitas nilai Y.\n",
    "\n",
    "**Algoritma seleksi fitur mutual information :**\n",
    "\n",
    "1. Perhitungan Informasi untuk setiap fitur\n",
    "\n",
    "    Menghitung nilai informasi bersama antara setiap fitur dan variabel target(kelas) dalam dataset. Mutual Information dapat dihitung menggunakan formula atau fungsi yang mengukur seberapa banyak informasi yang dimiliki fitur tentang target.\n",
    "2. Penilaian relevansi\n",
    "\n",
    "    Fitur-fitur dinilai berdasarkan nilai informasi bersama yang dihasilkan dari perhitungan sebelumnya. Fitur dengan nilai informasi bersama yang tinggi dianggap lebih relevan atau informatif terhadap variabel target. Mengurutkan fitur-fitur berdasarkan nilai Mutual Information dari yang tertinggi sampai terendah. Fitur dengan nilai Mutual Information yang lebih tinggi dianggap lebih informatif terkait dengan target(Irham et al., 2019).\n",
    "3. Pemilihan fitur\n",
    "    Sebagai hasil dari penilaian, dengan menentukan ambang atau kriteria tertentu untuk memilih subset fitur. Subset fitur yang melewati ambang relevansi dipertahankan, sementara yang di bawah ambang dapat dihapus.\n",
    "4. Implementasi dalam kode :\n",
    "    \n",
    "    - menggunakan fungsi mutual_info_classif dari scikit-learn untuk menghitung nilai informasi bersama. Melakukan perhitungan skor informasi bersama untuk setiao fitur dalam dataset 'X' terhadap variabel target 'y'. \n",
    "    - Menyimpan skor informasi bersama\n",
    "    - Memvisualisasikan seleksi fitur dengan grafik batang horizontal atau lainnya untuk mengetahui seberapa informatif setiap fitur terhadap variabel target. \n",
    "\n",
    "**Contoh perhitungan manual mutual information**\n",
    "Dataset:\n",
    "\n",
    "| A | B | Y |\n",
    "|---|---|---|\n",
    "| 0 | 0 | 1 |\n",
    "| 1 | 1 | 1 |\n",
    "| 0 | 1 | 0 |\n",
    "| 1 | 0 | 0 |\n",
    "| 0 | 1 | 1 |\n",
    "\n",
    "\n",
    "Langkah-langkah :\n",
    "\n",
    "1. Hitung Frekuensi Masing-Masing Kombinasi Nilai\n",
    "    - Membuuat tabel untuk menggambarkan frekuensi masing-masing kombinasi nilai dari fitur dan target, pada contoh dua fitur (A dan B) dan fitur Y sebagai target\n",
    "    \n",
    "|    | A=0 | A=1 |\n",
    "|----|-----|-----|\n",
    "| B=0|  ?  |  ?  |\n",
    "| B=1|  ?  |  ?  |\n",
    "\n",
    "     - Misalnya, berapa kali kombinasi (A=0, Y=1) muncul, (A=0, Y=0), dst.\n",
    "    \n",
    "|    | A=0 | A=1 |\n",
    "|----|-----|-----|\n",
    "| B=0|  1  |  1  |\n",
    "| B=1|  2  |  2  |\n",
    "\n",
    "    Penjelasan :\n",
    "\n",
    "    - Kombinasi (A=0, B=0): Terdapat 1 sampel (baris pertama).\n",
    "    - Kombinasi (A=1, B=0): Terdapat 1 sampel (baris keempat).\n",
    "    - Kombinasi (A=0, B=1): Terdapat 2 sampel (baris ketiga dan kelima).\n",
    "    - Kombinasi (A=1, B=1): Terdapat 2 sampel (baris kedua dan keempat).\n",
    "    \n",
    "2. Hitung Probabilitas Masing-Masing Kombinasi:\n",
    "\n",
    "\n",
    "     - Total sampel adalah jumlah total baris dalam dataset\n",
    "     \n",
    "    P(A=0, Y=0) = 1 / total_sampel \n",
    "    P(A=1, Y=0) = 1 / total_sampel\n",
    "    P(A=0, Y=1) = 1 / total_sampel\n",
    "    P(A=1, Y=1) = 2 / total_sampel\n",
    "    \n",
    "    Pada contoh perhitungan manual dengan 5 jumlah baris dalam dataset dilakukan perhitungan probabilitas sebagai berikut :\n",
    "     1 Kombinasi(A=0, Y=0)\n",
    "\n",
    "$$P(A=0, Y=0) = \\frac{1}{5} $$\n",
    "$$P(A=0 ) = \\frac{3}{5} (jumlah keseluruhan A=0 dalam dataset)$$\n",
    "$$P(Y=0 ) = \\frac{2}{5} (jumlah keseluruhan Y=0 dalam dataset)$$\n",
    "$$I(A=0,Y=0 ) = \\frac{1}{5}.log_2 (\\frac{\\frac{1}{5}}{\\frac{3}{5}.\\frac{2}{5}})$$\n",
    "$$I(A=0,Y=0 ) ≈ -0.464$$\n",
    "          2 Kombinasi (A=1, Y=0)\n",
    "     \n",
    "$$P(A=1, Y=0) = \\frac{1}{5} $$\n",
    "$$P(A=1 ) = \\frac{2}{5} (jumlah keseluruhan A=1 dalam dataset)$$\n",
    "$$P(Y=0 ) = \\frac{2}{5} (jumlah keseluruhan Y=0 dalam dataset)$$\n",
    "$$I(A=0,Y=0 ) = \\frac{1}{5}.log_2 (\\frac{\\frac{2}{5}}{\\frac{2}{5}.\\frac{2}{5}})$$\n",
    "$$I(A=1,Y=0 ) ≈ -0.464$$\n",
    "        3 Kombinasi (A=0, Y=1)\n",
    "     \n",
    "$$P(A=1, Y=0) = \\frac{1}{5} $$\n",
    "$$P(A=1 ) = \\frac{3}{5} (jumlah keseluruhan A=1 dalam dataset)$$\n",
    "$$P(Y=0 ) = \\frac{3}{5} (jumlah keseluruhan Y=0 dalam dataset)$$\n",
    "$$I(A=0,Y=0 ) = \\frac{1}{5}.log_2 (\\frac{\\frac{2}{5}}{\\frac{3}{5}.\\frac{3}{5}})$$\n",
    "$$I(A=1,Y=0 ) ≈ 0.464$$\n",
    "\n",
    "        4. Kombinasi (A=1, Y=0)\n",
    "     \n",
    "$$P(A=1, Y=0) = \\frac{1}{5} $$\n",
    "$$P(A=1 ) = \\frac{2}{5} (jumlah keseluruhan A=1 dalam dataset)$$\n",
    "$$P(Y=0 ) = \\frac{3}{5} (jumlah keseluruhan Y=0 dalam dataset)$$\n",
    "$$I(A=0,Y=0 ) = \\frac{1}{5}.log_2 (\\frac{\\frac{2}{5}}{\\frac{2}{5}.\\frac{3}{5}})$$\n",
    "$$I(A=1,Y=0 ) ≈ 0.311$$\n",
    "\n",
    "3. Hitung mutual information\n",
    ")=\n",
    "$$I(A;Y) = \\sum P(A,Y) .log_2 (\\frac{P(A,Y)}{P(A).P(Y)}) $$\n",
    "$$I(A;Y) \\approx 0.464+0.464+0.464+0.311 \\approx 1.703 $$\n",
    "    - Dimana  $P(A,Y)$ adalah probabilitas kombinasi nilai $(A, Y), P(A)$ adalah probabilitas nilai A, dan $P(Y)$ adalah probabilitas nilai Y.\n",
    "    \n",
    "    Jadi, hasil perhitungan manual dan rumus, didapatkan nilai Mutual Information antara fitur A dan target Y adalah sekitar 1.703.\n",
    "4. Urutkan fitur berdasarkan nilai mutual information\n",
    "\n",
    "\n",
    "\n",
    "\n",
    "Yang akan kita lakukan dalam menentukan nilai seleksi fitur pada pengolahan data klasifikasi firewall ini adalah sebagai berikut \n",
    ":\n",
    "\n",
    "1.) Import library\n",
    "    \n",
    "   - Mengimpor fungsi mutual_info_classif dari modul feature_selection di scikit-learn.\n",
    "\n",
    "   - %matplotlib inline digunakan untuk menampilkan plot secara langsung di notebook karena pengolahan data ini dilakukan dengan menggunakan Jupyter Notebook. \n",
    "2.) Menghitung Informasi bersama \n",
    "- Menghitung skor informasi bersama untuk setiap fitur dalam dataset X terhadap variabel target y menggunakan metode Mutual Information.\n",
    "3.) Menyimpan skor informasi bersama\n",
    "- Membuat objek Series Pandas untuk menyimpan skor informasi bersama.\n",
    "- Nama fitur diambil dari nama kolom dataset kecuali untuk kolom target 'Action'.\n",
    "4.) Visualisasi dengan bar plot\n",
    "- Visualisasi pada code di bawah ini dengan menggunakan batang horizontal untuk memvisualisasikan skor informasi  bersama dari setiap fitur. \n",
    "5.) Penambahan label pada plot / grafik\n",
    "- Pada sumbu x dan sumbu yang terdapat pada grafik diberikan label fitur dan label information gain.\n",
    "- Nilai numerik pada setiap batang diperlihatkan.\n",
    "\n",
    "Semakin panjang batangnya, semakin informatif fitur terhadap variabel target. Sehingga nanti dari hasil seleksi fitur ini, batang yang memiliki panjang paling pendek akan dihapus atau dieliminasi."
   ]
  },
  {
   "cell_type": "code",
   "execution_count": 33,
   "metadata": {
    "scrolled": true
   },
   "outputs": [
    {
     "data": {
      "text/plain": [
       "<function matplotlib.pyplot.show(close=None, block=None)>"
      ]
     },
     "execution_count": 33,
     "metadata": {},
     "output_type": "execute_result"
    },
    {
     "data": {
      "image/png": "[encoded data removed]",
      "text/plain": [
       "<Figure size 432x288 with 1 Axes>"
      ]
     },
     "metadata": {
      "needs_background": "light"
     },
     "output_type": "display_data"
    }
   ],
   "source": [
    "from sklearn.feature_selection import mutual_info_classif\n",
    "%matplotlib inline\n",
    "# menghitung skor informasi bersama untuk setiap fitur dalam dataset X terhadap variabel target y.\n",
    "importances = mutual_info_classif(X_ros, y_ros)\n",
    "feat_importances = pd.Series(importances, balanced_data.columns[0:len(balanced_data.columns)-1])\n",
    "# feat_importances = pd.Series(importances, data.columns)\n",
    "\n",
    "feat_importances.plot(kind='barh', color ='teal')\n",
    "plt.xlabel('Information Gain')\n",
    "plt.ylabel('Fitur')\n",
    "for i, v in enumerate(feat_importances):\n",
    "    plt.text(v, i, f'{v:.2f}', color='black', va='center')\n",
    "plt.show"
   ]
  },
  {
   "cell_type": "code",
   "execution_count": 34,
   "metadata": {},
   "outputs": [],
   "source": [
    "# Pemisahan fitur dan target setelah oversampling\n",
    "X_selected = X_ros\n",
    "y_selected = y_ros\n",
    "\n",
    "importances = mutual_info_classif(X_selected, y_selected)\n"
   ]
  },
  {
   "cell_type": "code",
   "execution_count": 35,
   "metadata": {},
   "outputs": [
    {
     "name": "stdout",
     "output_type": "stream",
     "text": [
      "                   Fitur  Skor_Mutual_Info  Rank\n",
      "1       Destination Port          0.308676   1.0\n",
      "2        NAT Source Port          0.278109   2.0\n",
      "0            Source Port          0.242773   3.0\n",
      "3   NAT Destination Port          0.048907   4.0\n",
      "8     Elapsed Time (sec)          0.030184   5.0\n",
      "6         Bytes Received          0.005338   6.0\n",
      "9              pkts_sent          0.002782   7.0\n",
      "7                Packets          0.001533   8.0\n",
      "10         pkts_received          0.001375   9.0\n",
      "5             Bytes Sent          0.000086  10.0\n",
      "4                  Bytes          0.000000  11.0\n"
     ]
    }
   ],
   "source": [
    "# Membuat DataFrame untuk menampilkan informasi fitur\n",
    "feat_importances = pd.DataFrame({\n",
    "    'Fitur': balanced_data.columns[:-1],  # Excluding the target variable\n",
    "    'Skor_Mutual_Info': importances\n",
    "})\n",
    "\n",
    "# Menambahkan kolom ranking berdasarkan skor mutual info (urutkan dari yang tertinggi)\n",
    "feat_importances['Rank'] = feat_importances['Skor_Mutual_Info'].rank(ascending=False)\n",
    "\n",
    "# Menampilkan tabel dengan nama fitur, nilai mutual info, dan ranking fitur yang diurutkan\n",
    "sorted_feat_importances = feat_importances.sort_values(by='Skor_Mutual_Info', ascending=False)\n",
    "print(sorted_feat_importances)"
   ]
  },
  {
   "cell_type": "markdown",
   "metadata": {
    "id": "sO7_5xsTDWU4"
   },
   "source": [
    "Setelah melakukan pemisahan fitur, kemudian melakukan split dataset dengan fungsi train_test_split yang digunakan untuk membagi dataset menjadi set pelatihan (train set) dan set pengujian (test set). Ini membantu dalam mengevaluasi kinerja model pada data yang tidak digunakan selama pelatihan.\n",
    "- X_ros: Matriks fitur (features) dari dataset yang telah di-resampled dengan menggunakan Random Over-Sampling (X_ros).\n",
    "\n",
    "- y_ros: Ini adalah vektor target (labels) yang sesuai dengan X_ros.\n",
    "\n",
    "- test_size=0.2: Ini menentukan proporsi data yang akan dialokasikan untuk test set. Dalam hal ini, 20% dari total data akan digunakan sebagai test set.\n",
    "\n",
    "- random_state=42: Ini digunakan untuk memastikan reproduktibilitas hasil. Jika kita memberikan nilai tertentu (dalam hal ini 42), maka setiap kali kita menjalankan fungsi ini, kita akan mendapatkan pembagian yang sama untuk set pelatihan dan set pengujian. Ini berguna ketika kita ingin hasil yang konsisten setiap kali kode dijalankan.\n",
    "\n",
    "Hasil dari fungsi train_test_split adalah empat kumpulan data:\n",
    "\n",
    "- X_train: Matriks fitur dari set pelatihan.\n",
    "- X_test: Matriks fitur dari set pengujian.\n",
    "- y_train: Vektor target dari set pelatihan.\n",
    "- y_test: Vektor target dari set pengujian."
   ]
  },
  {
   "cell_type": "markdown",
   "metadata": {
    "id": "GDHdafBWtTi7"
   },
   "source": [
    "### Split Dataset"
   ]
  },
  {
   "cell_type": "markdown",
   "metadata": {},
   "source": [
    "Split dataset yaitu melakukan pemisahan data menjadi dua bagian atau lebih. Split data atau pemisahan data yang dilakukan pada data ini dengan dua pemisahan, yaitu data akan digunakan untuk pelatihan dan akan digunakan untuk pengujian. \n",
    "\n",
    "- Data latih yaitu kumpulan data utama yang akan dimasukkan ke dalam model sehingga model tersebut dapat memplejari pola data.\n",
    "- Data uji yaitu set untuk memeriksa keakuratan dari model.\n",
    "\n"
   ]
  },
  {
   "cell_type": "markdown",
   "metadata": {
    "id": "MWYqLPNSDTUL"
   },
   "source": [
    "Split dataset atau pemisahan dataset adalah langkah yang penting dalam analisis data. Tujuannya adalah untuk membagi dataset menjadi dua lebih subset data yang berbeda. Pembagiannya yaitu data latih (training data) dan data uji (data testing).\n",
    "\n",
    "Tujuan utama split dataset adalah sebagai berikut :\n",
    "\n",
    "  1. Sebagai pelatihan model untuk machine learning.\n",
    "\n",
    "  2. Evaluasi model, data uji digunakan untuk menguji kinerja model yang telah dilatih. Hal ini membantu untuk mengukur sejauh mana model mampu melakukan prediksi dengan benar pada data yang tidak digunakan selama pelatihan.\n",
    "\n",
    "  3. Pengukuran kinerja\n",
    "\n",
    "  4. Pencegahan overfitting, yaitu keadaan dimana model memilliki kinerja yang sangat baik pada data latih tetapi buruk pada data uji.\n",
    "\n",
    "Pada pengolahan data ini, sebelum dilakukan split data yaitu dengan melakukan penghapusan fitur yang memiliki nilai pengaruh terendah yang kita dapatkan pada proses seleksi fitur. Niai terendah pada seleksi fitur kita dapatkan sebesar 0.00 pada kolom fitur Elapsed Time (sec). Sehingga pada split dataset, fitur yang memiliki nilai informasi terkecil akan dihapus. \n",
    "\n",
    "Maka pada pengolahan code di bawah ini:\n",
    "- Variabel X_selected melakukan drop penghapusan fitur yang memiliki nilai terkecil dan fitur target. \n",
    "- Variabel 'y_selected' merupakan variabel target. Variabel target('Action') ditentukan sebagai variabel 'y'.\n"
   ]
  },
  {
   "cell_type": "markdown",
   "metadata": {},
   "source": [
    "Penjelasan dari code yang digunakan pada split dataset ini:\n",
    "\n",
    "Pada variabel X_selected dilakukan penghapusan kolom dengan 'drop' . Kolom yang dihapus ada 6 kolom yang didapatkan nilai terkecil pada seleksi fitur dan 1 kolom 'Action' yang berupa target dalam DataFrame yang disimpan pada variabel 'balanced_data'.\n",
    "\n",
    "Pada variabel 'y_selected' berisi kolom 'Action' dari 'balanced_Data'.  Variabel ini diasumsikan bahwa kolom 'Action' adalah kolom target atau label yang akan dilakukan prediksi.\n"
   ]
  },
  {
   "cell_type": "markdown",
   "metadata": {},
   "source": [
    "Melakukan pengecekan jumlah data keseluruhan dan jumlah data uji dan data latih yang idgunakan pada split dataset dengan test_size 0.2 yang berarti data uji dilakukan 20% dan data latih sebesar 80% dari jumlah data. Variabel X_train yang berperan sebagai data latih berjumlah 119804 dan data yang dilakukan pengujian sebanyak 29952."
   ]
  },
  {
   "cell_type": "code",
   "execution_count": 36,
   "metadata": {
    "id": "FHzDsEz8V4Kg"
   },
   "outputs": [],
   "source": [
    "#Menghapus 5 kolom\n",
    "X_selected = balanced_data.drop(columns=['pkts_sent', 'pkts_received','Packets', 'Bytes Received', 'Bytes Sent', 'Bytes', 'Action'])\n",
    "y_selected = balanced_data['Action']"
   ]
  },
  {
   "cell_type": "code",
   "execution_count": 37,
   "metadata": {
    "id": "bSmgVcO7dYhf"
   },
   "outputs": [],
   "source": [
    "numerical_features = balanced_data.drop(columns=['Action'])"
   ]
  },
  {
   "cell_type": "code",
   "execution_count": 38,
   "metadata": {
    "id": "vyRtEbd4b5X2"
   },
   "outputs": [],
   "source": [
    "X_train, X_test, y_train, y_test = train_test_split(X_selected, y_selected, test_size=0.2, random_state=42)"
   ]
  },
  {
   "cell_type": "code",
   "execution_count": 39,
   "metadata": {
    "colab": {
     "base_uri": "https://localhost:8080/"
    },
    "id": "5tCOZofUV8vA",
    "outputId": "5dc79aa5-65e0-437f-afd7-6ac50cc4bd64"
   },
   "outputs": [
    {
     "name": "stdout",
     "output_type": "stream",
     "text": [
      "Jumlah Data : 149756\n",
      "Data Latih :  119804\n",
      "Data Uji   :  29952\n"
     ]
    }
   ],
   "source": [
    "print(\"Jumlah Data :\", X_selected.shape[0])\n",
    "print(\"Data Latih : \", X_train.shape[0])\n",
    "print(\"Data Uji   : \", X_test.shape[0])"
   ]
  },
  {
   "cell_type": "code",
   "execution_count": 40,
   "metadata": {},
   "outputs": [
    {
     "name": "stdout",
     "output_type": "stream",
     "text": [
      "Features (149756, 5)\n",
      "Target (149756,)\n"
     ]
    }
   ],
   "source": [
    "print('Features',X_selected.shape)\n",
    "print('Target',y_selected.shape)"
   ]
  },
  {
   "cell_type": "code",
   "execution_count": 41,
   "metadata": {
    "id": "sbhxTEU4iU9l"
   },
   "outputs": [],
   "source": [
    "# setelah seleksi fitur\n",
    "y_selected = label_encoder.fit_transform(balanced_data['Action'])"
   ]
  },
  {
   "cell_type": "markdown",
   "metadata": {},
   "source": [
    "Kemudian setelah dilakukan split data, dilakukan normalisasi dengan menggunakan 2 jenis normalisasi yaitu ZScore dan MinMax."
   ]
  },
  {
   "cell_type": "markdown",
   "metadata": {
    "id": "h9N7OyTPwlzG"
   },
   "source": [
    "### Normalisasi"
   ]
  },
  {
   "cell_type": "markdown",
   "metadata": {
    "id": "tlvwB7CxVj7Z"
   },
   "source": [
    "Normalisasi data adalah proses mengubah nilai-nilai dalam dataset menjadi skala tertentu agar fitur-fitur dalam dataset memiliki skala yang seragam. Tujuan digunakannya normalisasi ini adalah untuk menghindari ketidakseimbangan skala yang bisa mempengaruhi performa . Dalam normalisasi, setiap fitur dalam dataset diubah dalam rentang tertentu, misalnya antara 0 hingga 1 atau -1 hingga 1.Pada pengolahan data internet firwall ini, saya menggunakan 2 jenis normalisasi yaitu sebagai berikut :\n"
   ]
  },
  {
   "cell_type": "markdown",
   "metadata": {
    "id": "F2tkvF02jPxb"
   },
   "source": [
    "1. MinMaxScaler\n",
    "\n",
    "  MinMaxScaler untuk mengubah rentang data menjadi [0, 1]. Ini penting jika Anda ingin menjaga rentang nilai yang konsisten di antara semua fitur Anda, terutama jika Dengan menggunakan algoritma yang sensitive terhadap skala. Dengan menerapkan Min-Max Scaling ke data serta data pelatihan dan pengujian secara terpisah.\n",
    "\n",
    " Rumus MinMax :\n",
    " \n",
    " $$MinMax = \\frac{X- X_{\\text{min}}}{X_{\\text{max}} - X_{\\text{min}}} $$\n",
    " \n",
    "    Keterangan : \n",
    "    - $X$ : Nilai yang akan dinormalisasi\n",
    "    - $X_{\\text{min}}$ : Nilai minimum dari seluruh data\n",
    "    - $X_{\\text{max}}$ : Nilai maksimum dari seluruh data\n",
    " \n",
    " Contoh implementasi :\n",
    " \n",
    " $X =$ [12,25,18,8,15] \n",
    " \n",
    " Langkah-langkah yang harus diselesaikan :\n",
    " \n",
    "   1.) Menentukan $X_{min}$ dan $X_{max}$\n",
    " \n",
    "     $X_{min} = {8}$ , $X_{max} = 25 $\n",
    "     \n",
    "   2.) Menghitung $X_{normalisasi}$ untuk setiap nilai $X$ :\n",
    "   \n",
    "   $X_{\\text{normalisasi}} = \\frac{12 - 8}{25 - 8} = \\frac{4}{17} \\approx 0.24$\n",
    "   \n",
    "   $X_{\\text{normalisasi}} = \\frac{25 - 8}{25 - 8} = 1$\n",
    "   \n",
    "   $X_{\\text{normalisasi}} = \\frac{18 - 8}{25 - 8} = \\frac{10}{17} \\approx 0.59$\n",
    "   \n",
    "   $X_{\\text{normalisasi}} = \\frac{8 - 8}{25 - 8} = 0 $\n",
    "  \n",
    "   $X_{\\text{normalisasi}} = \\frac{15 - 8}{25 - 8} = \\frac{7}{17}  \\approx 0.41$\n",
    "   \n",
    "|x | x setelah normalisasi |\n",
    "|---|---|\n",
    "| 12 | 0.24 | \n",
    "| 25 | 1 | \n",
    "| 18 | 0.59 | \n",
    "| 8 | 0 | \n",
    "| 15 | 0.41 | "
   ]
  },
  {
   "cell_type": "markdown",
   "metadata": {
    "id": "aYcI8blKjHjh"
   },
   "source": [
    "2. ZScore\n",
    "\n",
    "  ZSore mengubah distribusi data menjadi distribusi normal standar. Membantu dalam meningkatkan konvergensi algoritma pembelajaran mesin yang menggunakan perhitungan jarak, seperti SVM atau K-Means. Anda menerapkan Z-Score ke data dan juga untuk data pelatihan dan pengujian secara terpisah.\n",
    "  \n",
    "  Rumus ZScore : \n",
    "  \n",
    "  $$Z =\\frac{x - mean (x)}{std_{dev}}  $$\n",
    "\n",
    "    Keterangan :\n",
    "    \n",
    "    - $Z =$ nilai yang akan dinormalisasi\n",
    "    - mean ($x = $) rata-rata dari seluruh data\n",
    "    - $std_{dev} = $ deviasi standar dari seluruh data\n",
    "\n",
    "   Langkah-langkah perhitungan manual normalisasi Z-score adalah sebagai berikut :\n",
    "   \n",
    "     1.) Tentukan mean (mean(x)) \n",
    "       dengan menghitung nilai rata-rata  dari data.\n",
    "      \n",
    "    2.) Menghitung deviasi standar $std_{dev}$\n",
    "\n",
    "    3.) Menghitung Z-Score untuk setiap $x$\n",
    "      \n",
    "    Contoh perhitungan manual normalisasi Z-Score pada sebuah dataset.\n",
    "    \n",
    "    $x = $ [15, 18, 20, 22, 25]\n",
    "    \n",
    "    Penyelesaian\n",
    "    \n",
    "    1.) Mean $(x)$\n",
    "    \n",
    "     $mean(x) = \\frac{15+18+20+22+25}{5} = {100}{5} = {20}$\n",
    "     \n",
    "    2.) Deviasi standar $std_{dev}$\n",
    "    \n",
    "    $std_{dev} = \\sqrt \\frac{\\sum_{i=1}^5(mean(x))^2}{n}$\n",
    "    \n",
    "    $std_{dev} = \\sqrt \\frac {(15-20)^2 + (18-20)^2 +(20-20)^2+(22-20)^2+(25-20)^2}{5}$\n",
    "    \n",
    "    $std_{dev} = \\sqrt \\frac {25+4+0+4+25}{5}$\n",
    "    \n",
    "    $std_{dev} = \\sqrt \\frac{58}{5}$\n",
    "    \n",
    "    $ = \\sqrt {11}{.6}$\n",
    "    \n",
    "    $= {3.41}$\n",
    "    \n",
    "    3.) Menghitung Z-score untuk setiap $x$\n",
    "    \n",
    "    $Z_1 = \\frac {15-20}{3.41} \\approx -1.47$\n",
    "    \n",
    "    $Z_2 = \\frac {18-20}{3.41} \\approx -0.59$\n",
    "    \n",
    "    $Z_3 = \\frac {20-20}{3.41} \\approx 0$\n",
    "    \n",
    "    $Z_4 = \\frac {22-20}{3.41} \\approx 0.59$\n",
    "    \n",
    "    $Z_5 = \\frac {25-20}{3.41} \\approx 1.47$\n",
    "    \n",
    "    Jadi, contoh data diatas yang sudah dilakukan normalisasi Z-Score adalah :\n",
    "\n",
    "| x | x setelah normalisasi |\n",
    "|---|---|\n",
    "| 15 | -1.47 | \n",
    "| 18 | -0.59 | \n",
    "| 20 | 0 | \n",
    "| 22 | 0.59 | \n",
    "| 25 | 1.47 | \n"
   ]
  },
  {
   "cell_type": "markdown",
   "metadata": {},
   "source": [
    "- Pada normalisasi, melakukan perhitungan rata-rata dan standar deviasi di setiap fitur pada X_train dengan menggunakan **fit**\n",
    "  \n",
    "- **transform**,  mengaplikasikan normalisasi berdasarkan jenis normalisasinya ke setiap nilai dalam set pelatihan menggunakan rata-rata dan standar deviasi yang dihitung sebelumnya.\n",
    "\n",
    "- Transform pada data pengujian(X_test) dengan transform(X_test) menggunakan rata-rata dan standar deviasi yang dihitung pada X_train untuk melakukan normalisasi pada set pengujian."
   ]
  },
  {
   "cell_type": "code",
   "execution_count": 42,
   "metadata": {
    "id": "l0CmMyI10YYM"
   },
   "outputs": [],
   "source": [
    "scaler = StandardScaler()\n",
    "X_train_standard = scaler.fit_transform(X_train)\n",
    "X_test_standard = scaler.transform(X_test)"
   ]
  },
  {
   "cell_type": "code",
   "execution_count": 43,
   "metadata": {
    "id": "OK8lyiDK0adu"
   },
   "outputs": [],
   "source": [
    "minmax_scaler = MinMaxScaler()\n",
    "X_train_minmax = minmax_scaler.fit_transform(X_train)\n",
    "X_test_minmax = minmax_scaler.transform(X_test)"
   ]
  },
  {
   "cell_type": "code",
   "execution_count": 44,
   "metadata": {
    "colab": {
     "base_uri": "https://localhost:8080/"
    },
    "id": "-ZnYyGyN04Wn",
    "outputId": "60a4c415-a77c-451c-e96d-a71a2d383f5d"
   },
   "outputs": [
    {
     "name": "stdout",
     "output_type": "stream",
     "text": [
      "Data Latih Z Score :  119804\n",
      "Data Uji Z Score  :  29952\n",
      "=============================================\n",
      "Data Latih MinMax :  119804\n",
      "Data Uji MinMax  :  29952\n"
     ]
    }
   ],
   "source": [
    "print(\"Data Latih Z Score : \", X_train_standard.shape[0])\n",
    "print(\"Data Uji Z Score  : \", X_test_standard.shape[0])\n",
    "print(\"=============================================\")\n",
    "print(\"Data Latih MinMax : \", X_train_minmax.shape[0])\n",
    "print(\"Data Uji MinMax  : \", X_test_minmax.shape[0])"
   ]
  },
  {
   "cell_type": "markdown",
   "metadata": {},
   "source": [
    "**Menyimpan model normalisasi**\n",
    "\n",
    "Menyimpan model normalisasi MinMax dan Zscore menjadi file pikle yang akan kita gunakan untuk melakukan deployment setelah evaluasi model.Format pickle menjadi suatu cara untuk menyimpan model yang telah dilatih ke dalam file biner, termasuk model machine learning yang dapat diambil kembali. Dengan menyimpan file pickle, model yang telah k=dilatih dapat digunakan kembali untuk prediksi di lingkungan produksi tanpa harus melatih ulang. "
   ]
  },
  {
   "cell_type": "code",
   "execution_count": 45,
   "metadata": {},
   "outputs": [],
   "source": [
    "file_zscore = 'norma_zs.pkl'\n",
    "with open(file_zscore, 'wb') as file:\n",
    "  pickle.dump(scaler, file)\n",
    "\n",
    "file_minmax = 'normal_min.pkl'\n",
    "with open(file_minmax, 'wb') as file:\n",
    "  pickle.dump(minmax_scaler, file)"
   ]
  },
  {
   "cell_type": "code",
   "execution_count": null,
   "metadata": {
    "id": "rIVQvLOQ8F1P"
   },
   "outputs": [],
   "source": [
    "file_zscore = 'normalized_ZScore_2.pkl'\n",
    "with open(file_zscore, 'wb') as file:\n",
    "  pickle.dump(scaler, file)\n",
    "\n",
    "file_minmax = 'normalized_minmax_2.pkl'\n",
    "with open(file_minmax, 'wb') as file:\n",
    "  pickle.dump(minmax_scaler, file)"
   ]
  },
  {
   "cell_type": "code",
   "execution_count": null,
   "metadata": {
    "id": "W12SJydKkHxu"
   },
   "outputs": [],
   "source": [
    "file_zscore = 'normalized_ZScore.pkl'\n",
    "with open(file_zscore, 'wb') as file:\n",
    "  pickle.dump(scaler, file)\n",
    "\n",
    "file_minmax = 'normalized_minmax.pkl'\n",
    "with open(file_minmax, 'wb') as file:\n",
    "  pickle.dump(minmax_scaler, file)"
   ]
  },
  {
   "cell_type": "markdown",
   "metadata": {
    "id": "PtmRO7-AtZJ8"
   },
   "source": [
    "## 4. Modelling"
   ]
  },
  {
   "cell_type": "markdown",
   "metadata": {
    "id": "pIagZ0jyYIi9"
   },
   "source": [
    "Machine learning model merupakan program komputer yang digunakan untuk mengenali pola dalam data maupun melakukan pembuatan sebuah prediksi. Modelling menggunakan algoritma machine learning dengan beberapa model. Kemudian, hasil yang terbaik atau memiliki performa paling tinggi dari sebuah model akan disimpan ke dalam file pickle (pkl). Pemilihan model harus sesuai dengan tipe permasalahan pada data (klasifikasi, regresi, klastering, dll), dataframe ini adalah masalah klasifikasi. Sehingga, dilakukan pengolahan dengan model klasifikasi. Pada pengolahan data firewall ini menggunakan 5 model metode yang idgunakan untuk mengklasifikasikan yaitu Random Forest, decission Tree, Logistic Regresion, SVM, dan Naive Bayes. Dari kelima metode tersebut didapatkan hasil terbaik dengan menggunakan metode Random Forest dengan hasil 99,94%."
   ]
  },
  {
   "cell_type": "markdown",
   "metadata": {
    "id": "KIfvNqm2tfgl"
   },
   "source": [
    "### Random Forest\n",
    "\n",
    "Random Forest adalah kumpulan pohon keputusan yang dibangun secara acak dan kemudian digabungkan untuk meningkatkan kinerja dan ketahanan terhadap overfitting. Dengan menggunakan Random Forest, kita dapat memanfaatkan keberagaman pohon keputusan yang dibangun secara acak untuk meningkatkan kinerja model dan mengurangi risiko overfitting. Algoritma ini cocok untuk berbagai masalah klasifikasi dan regresi dalam jumlah yang besar. Terdapat dua hal yang membuat algoritma ini disebut random, yaitu :\n",
    "1. Setiap pohon tumbuh pada sampel bootstrap yang berbeda diambil dari data latih secara acak.\n",
    "2. Dalam setiap *node split* selama pembentukan *decission tree*, sebagai sampel dari m variabel dipilih dari kumpulan data yang asli dan kemudian yang terbaik akan digunakan dalam node tersebut\n",
    "\n",
    "Hasil prediksi dari *Random Forest* didapatkan mellaui hasil terbanyak dari setiap  tree yang terbentuk.\n",
    "\n",
    "Rumus Random Forest\n",
    "\n",
    "Indeks Gini digunakan ntuk memutuskan bagaimanaa node pada pohon keputusan bercabang $$ Gini = 1 - \\sum_{i=1}^C (P_i)^2$$\n",
    "\n",
    "$P_i$ adalah proporsi dari kelas i dalam node.Gini Index membantu Random Forest memilih fitur-fitur yang efektif untuk memisahkan data pada setiap langkah pembentukan pohon keputusan.\n",
    "\n",
    "\n",
    "Entropy\n",
    "$$Entropy = - \\sum_{i=1}^k(p_i). log_2(p_i)$$\n",
    "\n",
    "Berikut adalah langkah-langkah teoritis untuk penggunaan Random Forest:\n",
    "\n",
    "   1. Inisialisasi Model\n",
    "        Model Random Forest diinisialisasi dengan memilih jumlah pohon keputusan (n_estimators) dan kriteria pemisahan node pada setiap pohon (criterion). Pembuatan model berdasarkan berapa banyaknya proses normalisasi yang telah dilakukan dan diinginkan untuk diketahui hasilnya. Pada pengolahan data ini dengan menggunakan 2 normalisasi, sehingga dua model Random Forest diinisialisasi dengan menggunakan Z-Score (rf_model_zscore) dan MinMax (rf_model_minmax).\n",
    "    \n",
    "   2. Pelatihan Model\n",
    "    - Setiap pohon keputusan dilatih dengan menggunakan bootstrap (pengambilan sampel dengan pengembalian) dari data pelatihan.\n",
    "    - Setiap pohon keputusan memilih subspace acak dari seluruh fitur yang tersedia.\n",
    "    - Hasil dari setiap pohon keputusan diimbangi bersama untuk menghasilkan model ensemble.\n",
    "    \n",
    "   3. Prediksi\n",
    "       Setelah model dilatih, digunakan untuk melakukan prediksi pada data pengujian. Setiap pohon keputusan memberikan prediksi, dan hasil akhir adalah hasil mayoritas dari semua prediksi tersebut. Prediksi dilakukan menggunakan metode .predict.\n",
    "    \n",
    "   4. Perhitungan Akurasi\n",
    "       Akurasi model Random Forest dihitung dengan membandingkan prediksi dengan label sebenarnya pada data pengujian. Akurasi model biasanya dihitung menggunakan fungsi accuracy_score dari sklearn. Hasil akurasi dari kedua model dapat dicetak atau disimpan untuk perbandingan\n",
    "    \n",
    "Contoh perhitungan manual dengan Gini Index dan Entropy pada suatu node. Data node :\n",
    "    \n",
    "    Kelas A : 10 data\n",
    "    Kelas B : 5 data \n",
    "    Kelas C : 5 data \n",
    "Perhitungan Gini Index :\n",
    "$ Gini = 1 - \\sum_{i=1}^C (P_i)^2 \\\\$\n",
    "$ Gini = 1 - (p_A)^2 - (p_B)^2 - (p_C)^2 $\n",
    "\n",
    "$ Gini = 1 - {10}{20}^2 - {5}{20}^2 - {5}{20}^2$\n",
    "\n",
    "$ Gini = 1 - {100}{400} - {25}{400} - {25}{400}$\n",
    "\n",
    "$ Gini = 1 - {150}{400}$\n",
    "\n",
    "$ Gini \\approx 0.625 $\n",
    "\n",
    "Perhitungan Entropy :\n",
    "\n",
    "$Entropy = - \\sum_{i=1}^k(p_i). log_2(p_i)$\n",
    "\n",
    "$Entropy = - p_A.log_2(p_A) - p_B.log_2(p_B) - p_C.log_2(p_C) $\n",
    "\n",
    "$Entropy = - (\\frac{10}{20}.log_2(\\frac{10}{20})) -(\\frac{5}{20}.log_2(\\frac{5}{20}))-(\\frac{5}{20}.log_2(\\frac{5}{20})))$\n",
    "\n",
    "\n",
    "$Entropy = -(\\frac{10}{20}.(-1))-(\\frac{5}{20}.(-2))-(\\frac{5}{20}.(-2))$\n",
    "\n",
    "$Entropy = 0.5 +0.5 +0.5$\n",
    "\n",
    "$Entropy = 1.5 $\n",
    "\n",
    "Jadi, pada contoh perhitungan manual ini didapatkan nilai Gini Index sekitar 0.625 dan Entropy 1.5 untuk node tersebut."
   ]
  },
  {
   "cell_type": "code",
   "execution_count": null,
   "metadata": {
    "colab": {
     "base_uri": "https://localhost:8080/"
    },
    "id": "uhxQ8w27rqEV",
    "outputId": "de177835-331f-44ac-e65f-9096de5d4cfd",
    "scrolled": false
   },
   "outputs": [],
   "source": [
    "\n",
    "# Inisialisasi list untuk menyimpan akurasi\n",
    "accuracies_rf = []\n",
    "best_accuracy_rf = 0\n",
    "best_preprocessing = None\n",
    "best_estimators = 0\n",
    "\n",
    "# Random Forest dengan Z-Score\n",
    "rf_model_zscore = RandomForestClassifier()\n",
    "rf_model_zscore.fit(X_train_standard, y_train)\n",
    "rf_pred_zscore = rf_model_zscore.predict(X_test_standard)\n",
    "accuracy_zscore = accuracy_score(y_test, rf_pred_zscore)\n",
    "accuracies_rf.append(('Z-Score', accuracy_zscore))\n",
    "\n",
    "# Random Forest dengan MinMax\n",
    "rf_model_minmax = RandomForestClassifier()\n",
    "rf_model_minmax.fit(X_train_minmax, y_train)\n",
    "rf_pred_minmax = rf_model_minmax.predict(X_test_minmax)\n",
    "accuracy_minmax = accuracy_score(y_test, rf_pred_minmax)\n",
    "accuracies_rf.append(('MinMax', accuracy_minmax))\n",
    "\n",
    "# Tampilkan akurasi Random Forest\n",
    "for preprocessing, accuracy in accuracies_rf:\n",
    "    print(f\"Akurasi Random Forest ({preprocessing}): {accuracy * 100:.2f}%\")\n",
    "\n",
    "# Pilih jenis preprocessing dengan akurasi tertinggi\n",
    "if accuracy_zscore > accuracy_minmax:\n",
    "    best_accuracy_rf = accuracy_zscore\n",
    "    best_preprocessing = 'Z-Score'\n",
    "    best_rf_model = rf_model_zscore\n",
    "else:\n",
    "    best_accuracy_rf = accuracy_minmax\n",
    "    best_preprocessing = 'MinMax'\n",
    "    best_rf_model = rf_model_minmax\n",
    "\n",
    "# Tampilkan akurasi terbaik\n",
    "print(f\"\\nAkurasi Terbaik (Preprocessing={best_preprocessing}): {best_accuracy_rf * 100:.2f}%\")\n"
   ]
  },
  {
   "cell_type": "code",
   "execution_count": 46,
   "metadata": {},
   "outputs": [
    {
     "name": "stdout",
     "output_type": "stream",
     "text": [
      "Akurasi untuk Z-Score:\n",
      "Z-Score (n_estimators=1): 99.89%\n",
      "Z-Score (n_estimators=2): 99.90%\n",
      "Z-Score (n_estimators=3): 99.92%\n",
      "Z-Score (n_estimators=4): 99.94%\n",
      "Z-Score (n_estimators=5): 99.93%\n",
      "Z-Score (n_estimators=6): 99.93%\n",
      "Z-Score (n_estimators=7): 99.94%\n",
      "Z-Score (n_estimators=8): 99.94%\n",
      "Z-Score (n_estimators=9): 99.93%\n",
      "Z-Score (n_estimators=10): 99.93%\n",
      "Z-Score (n_estimators=11): 99.94%\n",
      "Z-Score (n_estimators=12): 99.94%\n",
      "Z-Score (n_estimators=13): 99.94%\n",
      "Z-Score (n_estimators=14): 99.94%\n",
      "Z-Score (n_estimators=15): 99.94%\n",
      "Z-Score (n_estimators=16): 99.94%\n",
      "Z-Score (n_estimators=17): 99.94%\n",
      "Z-Score (n_estimators=18): 99.94%\n",
      "Z-Score (n_estimators=19): 99.94%\n",
      "Z-Score (n_estimators=20): 99.94%\n",
      "Z-Score (n_estimators=21): 99.94%\n",
      "Z-Score (n_estimators=22): 99.93%\n",
      "Z-Score (n_estimators=23): 99.93%\n",
      "Z-Score (n_estimators=24): 99.93%\n",
      "Z-Score (n_estimators=25): 99.93%\n",
      "Z-Score (n_estimators=26): 99.94%\n",
      "Z-Score (n_estimators=27): 99.94%\n",
      "Z-Score (n_estimators=28): 99.93%\n",
      "Z-Score (n_estimators=29): 99.94%\n",
      "Z-Score (n_estimators=30): 99.94%\n",
      "Z-Score (n_estimators=31): 99.94%\n",
      "Z-Score (n_estimators=32): 99.94%\n",
      "Z-Score (n_estimators=33): 99.94%\n",
      "Z-Score (n_estimators=34): 99.94%\n",
      "Z-Score (n_estimators=35): 99.94%\n",
      "Z-Score (n_estimators=36): 99.94%\n",
      "Z-Score (n_estimators=37): 99.94%\n",
      "Z-Score (n_estimators=38): 99.94%\n",
      "Z-Score (n_estimators=39): 99.94%\n",
      "Z-Score (n_estimators=40): 99.94%\n",
      "Z-Score (n_estimators=41): 99.94%\n",
      "Z-Score (n_estimators=42): 99.94%\n",
      "Z-Score (n_estimators=43): 99.94%\n",
      "Z-Score (n_estimators=44): 99.94%\n",
      "Z-Score (n_estimators=45): 99.94%\n",
      "Z-Score (n_estimators=46): 99.94%\n",
      "Z-Score (n_estimators=47): 99.94%\n",
      "Z-Score (n_estimators=48): 99.94%\n",
      "Z-Score (n_estimators=49): 99.94%\n",
      "Z-Score (n_estimators=50): 99.94%\n",
      "Z-Score (n_estimators=51): 99.94%\n",
      "Z-Score (n_estimators=52): 99.94%\n",
      "Z-Score (n_estimators=53): 99.94%\n",
      "Z-Score (n_estimators=54): 99.94%\n",
      "Z-Score (n_estimators=55): 99.94%\n",
      "Z-Score (n_estimators=56): 99.94%\n",
      "Z-Score (n_estimators=57): 99.94%\n",
      "Z-Score (n_estimators=58): 99.94%\n",
      "Z-Score (n_estimators=59): 99.94%\n",
      "Z-Score (n_estimators=60): 99.94%\n",
      "Z-Score (n_estimators=61): 99.94%\n",
      "Z-Score (n_estimators=62): 99.94%\n",
      "Z-Score (n_estimators=63): 99.94%\n",
      "Z-Score (n_estimators=64): 99.94%\n",
      "Z-Score (n_estimators=65): 99.94%\n",
      "Z-Score (n_estimators=66): 99.94%\n",
      "Z-Score (n_estimators=67): 99.94%\n",
      "Z-Score (n_estimators=68): 99.94%\n",
      "Z-Score (n_estimators=69): 99.94%\n",
      "Z-Score (n_estimators=70): 99.94%\n",
      "Z-Score (n_estimators=71): 99.94%\n",
      "Z-Score (n_estimators=72): 99.94%\n",
      "Z-Score (n_estimators=73): 99.94%\n",
      "Z-Score (n_estimators=74): 99.94%\n",
      "Z-Score (n_estimators=75): 99.94%\n",
      "Z-Score (n_estimators=76): 99.94%\n",
      "Z-Score (n_estimators=77): 99.94%\n",
      "Z-Score (n_estimators=78): 99.94%\n",
      "Z-Score (n_estimators=79): 99.94%\n",
      "Z-Score (n_estimators=80): 99.94%\n",
      "Z-Score (n_estimators=81): 99.94%\n",
      "Z-Score (n_estimators=82): 99.94%\n",
      "Z-Score (n_estimators=83): 99.94%\n",
      "Z-Score (n_estimators=84): 99.94%\n",
      "Z-Score (n_estimators=85): 99.94%\n",
      "Z-Score (n_estimators=86): 99.94%\n",
      "Z-Score (n_estimators=87): 99.94%\n",
      "Z-Score (n_estimators=88): 99.94%\n",
      "Z-Score (n_estimators=89): 99.94%\n",
      "Z-Score (n_estimators=90): 99.94%\n",
      "Z-Score (n_estimators=91): 99.94%\n",
      "Z-Score (n_estimators=92): 99.94%\n",
      "Z-Score (n_estimators=93): 99.94%\n",
      "Z-Score (n_estimators=94): 99.94%\n",
      "Z-Score (n_estimators=95): 99.94%\n",
      "Z-Score (n_estimators=96): 99.94%\n",
      "Z-Score (n_estimators=97): 99.94%\n",
      "Z-Score (n_estimators=98): 99.94%\n",
      "Z-Score (n_estimators=99): 99.94%\n",
      "Z-Score (n_estimators=100): 99.94%\n",
      "\n",
      "Akurasi Terbaik (Preprocessing=Z-Score): 99.94% dengan n_estimators=4\n",
      "\n",
      "Akurasi untuk MinMax:\n",
      "MinMax (n_estimators=1): 99.89%\n",
      "MinMax (n_estimators=2): 99.89%\n",
      "MinMax (n_estimators=3): 99.91%\n",
      "MinMax (n_estimators=4): 99.93%\n",
      "MinMax (n_estimators=5): 99.93%\n",
      "MinMax (n_estimators=6): 99.93%\n",
      "MinMax (n_estimators=7): 99.94%\n",
      "MinMax (n_estimators=8): 99.94%\n",
      "MinMax (n_estimators=9): 99.93%\n",
      "MinMax (n_estimators=10): 99.93%\n",
      "MinMax (n_estimators=11): 99.94%\n",
      "MinMax (n_estimators=12): 99.94%\n",
      "MinMax (n_estimators=13): 99.94%\n",
      "MinMax (n_estimators=14): 99.94%\n",
      "MinMax (n_estimators=15): 99.94%\n",
      "MinMax (n_estimators=16): 99.94%\n",
      "MinMax (n_estimators=17): 99.94%\n",
      "MinMax (n_estimators=18): 99.94%\n",
      "MinMax (n_estimators=19): 99.94%\n",
      "MinMax (n_estimators=20): 99.94%\n",
      "MinMax (n_estimators=21): 99.94%\n",
      "MinMax (n_estimators=22): 99.93%\n",
      "MinMax (n_estimators=23): 99.93%\n",
      "MinMax (n_estimators=24): 99.93%\n",
      "MinMax (n_estimators=25): 99.93%\n",
      "MinMax (n_estimators=26): 99.94%\n",
      "MinMax (n_estimators=27): 99.94%\n",
      "MinMax (n_estimators=28): 99.93%\n",
      "MinMax (n_estimators=29): 99.94%\n",
      "MinMax (n_estimators=30): 99.94%\n",
      "MinMax (n_estimators=31): 99.94%\n",
      "MinMax (n_estimators=32): 99.94%\n",
      "MinMax (n_estimators=33): 99.94%\n",
      "MinMax (n_estimators=34): 99.94%\n",
      "MinMax (n_estimators=35): 99.94%\n",
      "MinMax (n_estimators=36): 99.94%\n",
      "MinMax (n_estimators=37): 99.94%\n",
      "MinMax (n_estimators=38): 99.94%\n",
      "MinMax (n_estimators=39): 99.94%\n",
      "MinMax (n_estimators=40): 99.94%\n",
      "MinMax (n_estimators=41): 99.94%\n",
      "MinMax (n_estimators=42): 99.94%\n",
      "MinMax (n_estimators=43): 99.94%\n",
      "MinMax (n_estimators=44): 99.94%\n",
      "MinMax (n_estimators=45): 99.94%\n",
      "MinMax (n_estimators=46): 99.94%\n",
      "MinMax (n_estimators=47): 99.94%\n",
      "MinMax (n_estimators=48): 99.94%\n",
      "MinMax (n_estimators=49): 99.94%\n",
      "MinMax (n_estimators=50): 99.94%\n",
      "MinMax (n_estimators=51): 99.94%\n",
      "MinMax (n_estimators=52): 99.94%\n",
      "MinMax (n_estimators=53): 99.94%\n",
      "MinMax (n_estimators=54): 99.94%\n",
      "MinMax (n_estimators=55): 99.94%\n",
      "MinMax (n_estimators=56): 99.94%\n",
      "MinMax (n_estimators=57): 99.94%\n",
      "MinMax (n_estimators=58): 99.94%\n",
      "MinMax (n_estimators=59): 99.94%\n",
      "MinMax (n_estimators=60): 99.94%\n",
      "MinMax (n_estimators=61): 99.94%\n",
      "MinMax (n_estimators=62): 99.94%\n",
      "MinMax (n_estimators=63): 99.94%\n",
      "MinMax (n_estimators=64): 99.94%\n",
      "MinMax (n_estimators=65): 99.94%\n",
      "MinMax (n_estimators=66): 99.94%\n",
      "MinMax (n_estimators=67): 99.94%\n",
      "MinMax (n_estimators=68): 99.94%\n",
      "MinMax (n_estimators=69): 99.94%\n",
      "MinMax (n_estimators=70): 99.94%\n",
      "MinMax (n_estimators=71): 99.94%\n",
      "MinMax (n_estimators=72): 99.94%\n",
      "MinMax (n_estimators=73): 99.94%\n",
      "MinMax (n_estimators=74): 99.94%\n",
      "MinMax (n_estimators=75): 99.94%\n",
      "MinMax (n_estimators=76): 99.94%\n",
      "MinMax (n_estimators=77): 99.94%\n",
      "MinMax (n_estimators=78): 99.94%\n",
      "MinMax (n_estimators=79): 99.94%\n",
      "MinMax (n_estimators=80): 99.94%\n",
      "MinMax (n_estimators=81): 99.94%\n",
      "MinMax (n_estimators=82): 99.94%\n",
      "MinMax (n_estimators=83): 99.94%\n",
      "MinMax (n_estimators=84): 99.94%\n",
      "MinMax (n_estimators=85): 99.94%\n",
      "MinMax (n_estimators=86): 99.94%\n",
      "MinMax (n_estimators=87): 99.94%\n",
      "MinMax (n_estimators=88): 99.94%\n",
      "MinMax (n_estimators=89): 99.94%\n",
      "MinMax (n_estimators=90): 99.94%\n",
      "MinMax (n_estimators=91): 99.94%\n",
      "MinMax (n_estimators=92): 99.94%\n",
      "MinMax (n_estimators=93): 99.94%\n",
      "MinMax (n_estimators=94): 99.94%\n",
      "MinMax (n_estimators=95): 99.94%\n",
      "MinMax (n_estimators=96): 99.94%\n",
      "MinMax (n_estimators=97): 99.94%\n",
      "MinMax (n_estimators=98): 99.94%\n",
      "MinMax (n_estimators=99): 99.94%\n",
      "MinMax (n_estimators=100): 99.94%\n",
      "\n",
      "Akurasi Terbaik (Preprocessing=MinMax): 99.94% dengan n_estimators=48\n",
      "\n",
      "Akurasi Terbaik (Preprocessing=MinMax): 99.94% dengan n_estimators=48\n",
      "\n",
      "Model Terbaik: RandomForestClassifier(n_estimators=48, random_state=42)\n"
     ]
    }
   ],
   "source": [
    "# Inisialisasi list untuk menyimpan akurasi\n",
    "accuracies_rf_zscore = []\n",
    "accuracies_rf_minmax = []\n",
    "\n",
    "best_accuracy_rf_zscore = 0\n",
    "best_accuracy_rf_minmax = 0\n",
    "best_preprocessing_zscore = None\n",
    "best_preprocessing_minmax = None\n",
    "best_n_estimators_zscore = 0\n",
    "best_n_estimators_minmax = 0\n",
    "best_rf_model_zscore = None  # Inisialisasi model terbaik untuk Z-Score\n",
    "best_rf_model_minmax = None  # Inisialisasi model terbaik untuk MinMax\n",
    "\n",
    "# Loop untuk menguji estimator dari 1 sampai 100\n",
    "for n_estimators in range(1, 101):\n",
    "    # Random Forest dengan n_estimators dan Z-Score\n",
    "    rf_model_zscore = RandomForestClassifier(n_estimators=n_estimators, random_state=42)\n",
    "    rf_model_zscore.fit(X_train_standard, y_train)\n",
    "    rf_pred_zscore = rf_model_zscore.predict(X_test_standard)\n",
    "    accuracy_zscore = accuracy_score(y_test, rf_pred_zscore)\n",
    "\n",
    "    accuracies_rf_zscore.append((f'Z-Score (n_estimators={n_estimators})', accuracy_zscore))\n",
    "\n",
    "    # Memilih model dengan akurasi tertinggi untuk Z-Score\n",
    "    if accuracy_zscore > best_accuracy_rf_zscore:\n",
    "        best_accuracy_rf_zscore = accuracy_zscore\n",
    "        best_preprocessing_zscore = f'Z-Score'\n",
    "        best_n_estimators_zscore = n_estimators\n",
    "        best_rf_model_zscore = rf_model_zscore\n",
    "\n",
    "    # Random Forest dengan n_estimators dan MinMax\n",
    "    rf_model_minmax = RandomForestClassifier(n_estimators=n_estimators, random_state=42)\n",
    "    rf_model_minmax.fit(X_train_minmax, y_train)\n",
    "    rf_pred_minmax = rf_model_minmax.predict(X_test_minmax)\n",
    "    accuracy_minmax = accuracy_score(y_test, rf_pred_minmax)\n",
    "\n",
    "    accuracies_rf_minmax.append((f'MinMax (n_estimators={n_estimators})', accuracy_minmax))\n",
    "\n",
    "    # Memilih model dengan akurasi tertinggi untuk MinMax\n",
    "    if accuracy_minmax > best_accuracy_rf_minmax:\n",
    "        best_accuracy_rf_minmax = accuracy_minmax\n",
    "        best_preprocessing_minmax = f'MinMax'\n",
    "        best_n_estimators_minmax = n_estimators\n",
    "        best_rf_model_minmax = rf_model_minmax\n",
    "\n",
    "# Memilih model terbaik dari Z-Score dan MinMax\n",
    "if best_accuracy_rf_zscore > best_accuracy_rf_minmax:\n",
    "    best_accuracy_rf = best_accuracy_rf_zscore\n",
    "    best_rf_model = best_rf_model_zscore\n",
    "    best_preprocessing = best_preprocessing_zscore\n",
    "    best_n_estimators = best_n_estimators_zscore\n",
    "else:\n",
    "    best_accuracy_rf = best_accuracy_rf_zscore\n",
    "    best_rf_model = best_rf_model_minmax\n",
    "    best_preprocessing = best_preprocessing_minmax\n",
    "    best_n_estimators = best_n_estimators_minmax\n",
    "# Tampilkan akurasi Random Forest untuk Z-Score\n",
    "print(\"Akurasi untuk Z-Score:\")\n",
    "for preprocessing, accuracy in accuracies_rf_zscore:\n",
    "    print(f\"{preprocessing}: {accuracy * 100:.2f}%\")\n",
    "\n",
    "# Tampilkan akurasi terbaik untuk Z-Score\n",
    "print(f\"\\nAkurasi Terbaik (Preprocessing={best_preprocessing_zscore}): {best_accuracy_rf_zscore * 100:.2f}% dengan n_estimators={best_n_estimators_zscore}\")\n",
    "\n",
    "# Tampilkan akurasi Random Forest untuk MinMax\n",
    "print(\"\\nAkurasi untuk MinMax:\")\n",
    "for preprocessing, accuracy in accuracies_rf_minmax:\n",
    "    print(f\"{preprocessing}: {accuracy * 100:.2f}%\")\n",
    "\n",
    "# Tampilkan akurasi terbaik untuk MinMax\n",
    "print(f\"\\nAkurasi Terbaik (Preprocessing={best_preprocessing_minmax}): {best_accuracy_rf_minmax * 100:.2f}% dengan n_estimators={best_n_estimators_minmax}\")\n",
    "    \n",
    "# Tampilkan akurasi terbaik\n",
    "print(f\"\\nAkurasi Terbaik (Preprocessing={best_preprocessing}): {best_accuracy_rf * 100:.2f}% dengan n_estimators={best_n_estimators}\")\n",
    "\n",
    "# Tampilkan model terbaik\n",
    "print(f\"\\nModel Terbaik: {best_rf_model}\")\n"
   ]
  },
  {
   "cell_type": "code",
   "execution_count": null,
   "metadata": {
    "id": "4a7AjnAKtPFP"
   },
   "outputs": [],
   "source": [
    "import pickle\n",
    "model_filename = 'best_random_forest_model.pkl'\n",
    "with open(model_filename, 'wb') as file:\n",
    "    pickle.dump(best_rf_model, file)"
   ]
  },
  {
   "cell_type": "markdown",
   "metadata": {},
   "source": [
    "Terdapat kelas yag tidak muncul dalam prediksi. Hal ini bisa disebabkan karena ketidakseimbangan kelas dalam data uji. Sehingga, model ini sulit untuk melakukan prediksi kelas yang memiliki representasi yang kecil dalam data pelatihan."
   ]
  },
  {
   "cell_type": "markdown",
   "metadata": {
    "id": "L3X1JlQXthwB"
   },
   "source": [
    "### Decision Tree\n",
    "\n",
    "Decission Tree merupakan model pembelajaran mesin yang memodelkan keputusan dan hubungan menggunakan pohon keputusan atau struktur pohon. Algoritma ini memecah data menjadi bagian-bagian yang lebih kecil dan mengambil keputusan di setiap simpul (node) pohon.\n",
    "Rumus Decision Tree untuk menyeleesaikan klasifikasi :\n",
    "\n",
    "1. Gini Index untuk Node\n",
    "\n",
    "$Gini = 1 - \\sum_{i=1}^k(p_i)^2$\n",
    "\n",
    "nilai $p_i$ adalah proporsi dari kelas 1 ddalam node tersebut.\n",
    "\n",
    "2. Gini Index untuk Pemisahan(Split)\n",
    "\n",
    "$Gini_{split} = \\sum_{j=1}^m \\frac{n_j}{N} . Gini_j$\n",
    "\n",
    "Keterangan :\n",
    "\n",
    "$n_j$ = jumlah data dalam subset j\n",
    "\n",
    "$N$ = total jumlah data\n",
    "\n",
    "$Gini_j$ = Gini Index untuk node subset j\n",
    "\n",
    "3. Information Gain : \n",
    "\n",
    "$Information Gain = Gini_{parent} - Gini{split}$\n",
    "\n",
    "Keterangan :\n",
    "\n",
    "$Gini_{parent}$ = Gini Index untuk node sebelum pemisahan.\n",
    "\n",
    "Perhitungan manual :\n",
    "\n",
    "Kelas A : 20 data\n",
    "Kelas B : 15 data\n",
    "Kelas C : 15 data\n",
    "\n",
    "$Gini_{parent} =  1 - (\\frac{20}{50})^2 - (\\frac{15}{50})^2-(\\frac{15}{50})^2  $\n",
    "\n",
    "$Gini_{parent} \\approx 0.64$\n",
    "\n",
    "Pemisahan(split) dengan fitur X :\n",
    "\n",
    " - subset 1 (X $ \\leq $ 5 ) : kelas A:10, Kelas B:5, Kelas C:0\n",
    " - subset 2 (X > 5): kelas A:10, Kelas B:10, Kelas C : 15\n",
    "    \n",
    "$Gini_1 = 1- (\\frac{10}{15})^2 - (\\frac{5}{15})^2$\n",
    "\n",
    "$Gini_1 \\approx 0.44$\n",
    "\n",
    "$Gini_2 = 1- (\\frac{10}{35})^2 - (\\frac{10}{35})^2 - (\\frac{15}{35})^2$\n",
    "\n",
    "$Gini_2 \\approx 0.65$\n",
    "\n",
    "$Gini_{split} = \\frac{15}{50}. \\ 0.44 + \\frac{35}{50}.\\ 0.65$\n",
    "\n",
    "$Gini_{split} \\approx 0.57 $\n",
    "\n",
    "$Information Gain = 0.64 - 0.57$\n",
    "\n",
    "$Information Gain \\approx 0.07$\n",
    "\n",
    "Proses perhitungan ini diulang pada setiap fitur dan nilai ambang untuk memilih pemisahan terbaik yang memberikan Information Gain maksimal.\n",
    "\n",
    "Cara Kerja Decision Tree :\n",
    "\n",
    "  1. Pembentukan pohon keputusan\n",
    "  \n",
    "      Decision Tree membangun pohon keputusan berdasarkan pemilihan fitur yang paling informatif pada setiap langkahnya.Fitur yang paling informatif diidentifikasi berdasarkan kriteria seperti Gini impurity, Information Gain, atau Gain Ratio.\n",
    "  2. Pemilihan fitur terbaik\n",
    "  \n",
    "      Decision Tree memilih fitur yang paling baik memisahkan dataset berdasarkan kelas target. Hal ini dilakukan untuk meningkatkan informasi.\n",
    "  \n",
    "  3. Pembentukan cabang dan daun\n",
    "  \n",
    "      Pohon dibentuk dengan mengulangi langkah pemilihan fitur setiap cabang sampai mencapai daun yang mewakili kelas atau nilai prediksi. \n",
    "  4. Keputusan berbasis pohon\n",
    "  \n",
    "      Ketika ada data baru, Decision Tree mengambil keputusan berdasarkan jalur yang dilalui dalam pohon dari akar ke daun.\n",
    "  5. Pemangkasan(pruning)\n",
    "  \n",
    "      Teknik pemangkasan dapat diterapkan untuk mencegah overfitting dengan menghapus beberapa bagian dari pohon keputusan. Pemangkasan ini dilakukan untk memastikan bahwa  pohon tidak teralu kompleks dengan spesifik sehingga kinerjanya menurun pada data yang  tidak terlihat sebelumnya. \n",
    "  6. Prediksi\n",
    "      \n",
    "      Setelah pohon dibentuk, model dapat digunakan untuk melakukan prediksi terhadap data baru dengan melewati pohon berdasarkan fitur-fitur yang dimiliki oleh data tersebut.\n",
    "\n",
    "Langkah-langkah :\n",
    "\n",
    "   1. Inisialisasi Model\n",
    "   \n",
    "        Karena dalam Decision Tree memiliki banyak parameter, tetapi yang utama adalah criterion (kriteria pemisahan node, misalnya 'gini' atau 'entropy'). Pembuatan model berrdasarkan berapa banyaknya proses normalisasi yang telah dilakukan dan diinginkan untuk diketahui hasilnya. Pada pengolahan data ini dengan mengggunakan 2 normalisasi, sehingga dua model Decision Tree diinisialisasi dengan menggunakan Z-Score (dt_model_zscore) dan MinMax (dt_model_minmax).\n",
    "        \n",
    "   2. Pelatihan Model pada dataset pengujian\n",
    "   \n",
    "       Model Decission Tree dilatih dengan data pelatihan menggunakan metode .fit . \n",
    "   3. Prediksi pada dataset pengujian\n",
    "   \n",
    "        Setelah model dilatih, digunakan untuk melakukan prediksi pada data pengujian. Prediksi dilakukan menggunakan metode .predict. \n",
    "   4. Pengukuran Akurasi\n",
    "   \n",
    "        Akurasi model Decision Tree dihitung menggunakan fungsi accuracy_score dari sklearn. "
   ]
  },
  {
   "cell_type": "code",
   "execution_count": 49,
   "metadata": {
    "colab": {
     "base_uri": "https://localhost:8080/"
    },
    "id": "NUWuNB3vrgxO",
    "outputId": "892cd712-6359-4556-ffdb-6d61ecaa5bd0"
   },
   "outputs": [
    {
     "name": "stdout",
     "output_type": "stream",
     "text": [
      "Akurasi Decision Tree (Z-Score): 99.94%\n",
      "Akurasi Decision Tree (MinMax): 99.94%\n",
      "\n",
      "Akurasi Terbaik (Preprocessing=MinMax): 99.94%\n"
     ]
    }
   ],
   "source": [
    "# Inisialisasi list untuk menyimpan akurasi\n",
    "accuracies_dt = []\n",
    "best_accuracy_dt = 0\n",
    "best_preprocessing = None\n",
    "\n",
    "# Decision Tree dengan Z-Score\n",
    "dt_model_zscore = DecisionTreeClassifier()\n",
    "dt_model_zscore.fit(X_train_standard, y_train)\n",
    "# model Decision Tree digunakan untuk membuat prediksi berdasarkan jalur yang dilalui dalam pohon dari akar ke daun\n",
    "dt_pred_zscore = dt_model_zscore.predict(X_test_standard)\n",
    "accuracy_zscore = accuracy_score(y_test, dt_pred_zscore)\n",
    "accuracies_dt.append(('Z-Score', accuracy_zscore))\n",
    "\n",
    "# Decision Tree dengan MinMax\n",
    "dt_model_minmax = DecisionTreeClassifier()\n",
    "# Prediksi pada dattaset pengujian\n",
    "dt_model_minmax.fit(X_train_minmax, y_train)\n",
    "# model Decision Tree digunakan untuk membuat prediksi berdasarkan jalur yang dilalui dalam pohon dari akar ke daun\n",
    "dt_pred_minmax = dt_model_minmax.predict(X_test_minmax)\n",
    "# Pengukuran akurasi\n",
    "accuracy_minmax = accuracy_score(y_test, dt_pred_minmax)\n",
    "# Menyimpan akurasi dalam list\n",
    "accuracies_dt.append(('MinMax', accuracy_minmax))\n",
    "\n",
    "# Menampilkan akurasi Decision Tree\n",
    "for preprocessing, accuracy in accuracies_dt:\n",
    "    print(f\"Akurasi Decision Tree ({preprocessing}): {accuracy * 100:.2f}%\")\n",
    "\n",
    "# pemilihan jenis preprocessing dengan akurasi tertinggi\n",
    "if accuracy_zscore > accuracy_minmax:\n",
    "    best_accuracy_dt = accuracy_zscore\n",
    "    best_preprocessing = 'Z-Score'\n",
    "    best_dt_model = dt_model_zscore\n",
    "else:\n",
    "    best_accuracy_dt = accuracy_minmax\n",
    "    best_preprocessing = 'MinMax'\n",
    "    best_dt_model = dt_model_minmax\n",
    "\n",
    "# Menampilkan akurasi terbaik\n",
    "print(f\"\\nAkurasi Terbaik (Preprocessing={best_preprocessing}): {best_accuracy_dt * 100:.2f}%\")\n"
   ]
  },
  {
   "cell_type": "code",
   "execution_count": null,
   "metadata": {},
   "outputs": [],
   "source": [
    "import pickle\n",
    "model_filename = 'best_dt.pkl'\n",
    "with open(model_filename, 'wb') as file:\n",
    "    pickle.dump(best_dt_model, file)"
   ]
  },
  {
   "cell_type": "markdown",
   "metadata": {
    "id": "4XzcNV4vta-h"
   },
   "source": [
    "### Logistic Regression\n",
    "\n",
    "Logistic Regression adalah algoritma klasifikasi yang digunakan untuk memodelkan probabilitas bahwa suatu instance/data point akan termasuk ke dalam kelas tertentu.Algoritma ini menggunakan fungsi logistik (sigmoid) untuk menghasilkan output antara 0 dan 1, yang diinterpretasikan sebagai probabilitas.\n",
    "Untuk mencari nilai logistic regression, dilakukan beberapa tahapan sebagai berikut :\n",
    "\n",
    "Rumus :\n",
    "\n",
    "$P(Y=1) = \\frac{1}{1+e ^ -(b_0+b_1.X_1+b_2.X_2+...+b_n.X_n)}$\n",
    "\n",
    "Keterangan :\n",
    "\n",
    "- $P(Y=1)$ adalah probabilitas bahwa variabel dependen\n",
    "- $Y$ sama dengan 1 (kelas positif).\n",
    "- $e$ adalah bilangan Euler (sekitar 2.71828).\n",
    "- $b_0$ adalah intercept (konstanta) dari model.\n",
    "- $b_1, b_2, \\ldots, b_n$ adalah koefisien dari masing-masing fitur $X_1, X_2, \\ldots, X_n$.\n",
    "- $X_1, X_2, \\ldots, X_n$ adalah variabel-variabel independen atau fitur-fitur yang digunakan dalam model."
   ]
  },
  {
   "cell_type": "code",
   "execution_count": 50,
   "metadata": {
    "colab": {
     "base_uri": "https://localhost:8080/"
    },
    "id": "YgDAOY7VsKJS",
    "outputId": "68133b61-5ae7-4170-91f2-daf83939892b",
    "scrolled": true
   },
   "outputs": [
    {
     "name": "stderr",
     "output_type": "stream",
     "text": [
      "C:\\Users\\ASUS\\anaconda3\\lib\\site-packages\\sklearn\\linear_model\\_logistic.py:458: ConvergenceWarning: lbfgs failed to converge (status=1):\n",
      "STOP: TOTAL NO. of ITERATIONS REACHED LIMIT.\n",
      "\n",
      "Increase the number of iterations (max_iter) or scale the data as shown in:\n",
      "    https://scikit-learn.org/stable/modules/preprocessing.html\n",
      "Please also refer to the documentation for alternative solver options:\n",
      "    https://scikit-learn.org/stable/modules/linear_model.html#logistic-regression\n",
      "  n_iter_i = _check_optimize_result(\n"
     ]
    },
    {
     "name": "stdout",
     "output_type": "stream",
     "text": [
      "Akurasi Logistic Regression (Z-Score): 81.99%\n",
      "Akurasi Logistic Regression (MinMax): 77.94%\n"
     ]
    },
    {
     "name": "stderr",
     "output_type": "stream",
     "text": [
      "C:\\Users\\ASUS\\anaconda3\\lib\\site-packages\\sklearn\\linear_model\\_logistic.py:458: ConvergenceWarning: lbfgs failed to converge (status=1):\n",
      "STOP: TOTAL NO. of ITERATIONS REACHED LIMIT.\n",
      "\n",
      "Increase the number of iterations (max_iter) or scale the data as shown in:\n",
      "    https://scikit-learn.org/stable/modules/preprocessing.html\n",
      "Please also refer to the documentation for alternative solver options:\n",
      "    https://scikit-learn.org/stable/modules/linear_model.html#logistic-regression\n",
      "  n_iter_i = _check_optimize_result(\n"
     ]
    }
   ],
   "source": [
    "from sklearn.linear_model import LogisticRegression\n",
    "\n",
    "akurasi=[]\n",
    "lr_model = LogisticRegression()\n",
    "lr_model.fit(X_train_standard, y_train)\n",
    "lr_pred = lr_model.predict(X_test_standard)\n",
    "lr_accuracy = accuracy_score(y_test, lr_pred)\n",
    "akurasi.append(('Z-Score',lr_accuracy))\n",
    "\n",
    "lr_model.fit(X_train_minmax, y_train)\n",
    "lr_pred2 = lr_model.predict(X_test_minmax)\n",
    "lr_accuracy2 = accuracy_score(y_test, lr_pred2)\n",
    "akurasi.append(('MinMax',lr_accuracy2))\n",
    "for preprocessing, accuracy in akurasi:\n",
    "    print(f\"Akurasi Logistic Regression ({preprocessing}): {accuracy * 100:.2f}%\")"
   ]
  },
  {
   "cell_type": "markdown",
   "metadata": {
    "id": "OfBlk8aZtd4E"
   },
   "source": [
    "### SVM\n",
    "\n",
    "SVM adalah algoritma pembelajaran mesin yang digunakan untuk tugas klasifikasi dan regresi. SVM bertujuan untuk menemukan hyperplane terbaik yang memisahkan dua kelas dengan margin terbesar. Hyperplane ini adalah garis atau permukaan yang memaksimalkan jarak antara kelas-kelas tersebut.\n",
    "\n",
    "Rumus SVM : \n",
    "\n",
    "$w⋅x+b=0$\n",
    "\n",
    "Keterangan:\n",
    "- $w$ : weights atau vektor bobot yang memiliki panjang yang sama dengan vektor fitur $x$. Setiap elemen vektor $w$ mengukur pengaruh relatif dari masing-masing fitur terhadap keputusan.\n",
    "\n",
    "- $x$ : vektor input yang merupakan data yang akan diklasifikasi\n",
    "\n",
    "- $b$ : bias yaitu parameter yang memungkinkan penyesuaian posisi hyperplane tanpa mengubah arahnya.\n",
    "\n",
    "- $\\cdot$ : operasi dot product(hasil kali titik) antara vektor $w$ dan $x$.\n",
    "\n",
    "Cara Kerja SVM :\n",
    "1. Pemilihan hyperplane\n",
    "    \n",
    "    SVM mencari hyperplane yang memaksimalkan margin antara kelas.Margin dihitung sebagai jarak antara hyperplane dan titik terdekat dari setiap kelas.\n",
    "    \n",
    "2. Penanganan data yang tidak terpisah linear \n",
    "\n",
    "    Untuk kasus di mana data tidak dapat dipisahkan secara linear, SVM menggunakan teknik kernel untuk mentransformasi data ke dimensi yang lebih tinggi sehingga menjadi dapat dipisahkan.\n",
    "    \n",
    "3. Penentuan vektor dukungan (Support Vector) \n",
    "    \n",
    "    Support vectors adalah sampel data yang berada di sekitar margin atau di sisi yang salah dari hyperplane.\n",
    "4. Penentuan bobot dan bias\n",
    "\n",
    "    SVM mencari bobot (w) dan bias (b) yang memenuhi kendala dan meminimalkan fungsi tujuan.\n",
    "5. Keputusan klasifikasi\n",
    "\n",
    "    Setelah melatih model, SVM dapat digunakan untuk klasifikasi data baru berdasarkan fungsi keputusan $(f(x))$\n"
   ]
  },
  {
   "cell_type": "code",
   "execution_count": 52,
   "metadata": {
    "colab": {
     "base_uri": "https://localhost:8080/"
    },
    "id": "tZbQrubmgA_8",
    "outputId": "ebe7fc6c-3473-42ad-d4a6-3acda79930a5"
   },
   "outputs": [
    {
     "name": "stdout",
     "output_type": "stream",
     "text": [
      "Akurasi SVM dengan Z-Score: 85.26%\n",
      "Akurasi SVM dengan MinMax: 84.39%\n"
     ]
    }
   ],
   "source": [
    "# SVM dengan Zscore\n",
    "svm_model_zscore = SVC()\n",
    "svm_model_zscore.fit(X_train_standard, y_train)\n",
    "svm_pred_zscore = svm_model_zscore.predict(X_test_standard)\n",
    "accuracy_svm_zscore = accuracy_score(y_test, svm_pred_zscore)\n",
    "\n",
    "# SVM dengan MinMax\n",
    "svm_model_minmax = SVC()\n",
    "svm_model_minmax.fit(X_train_minmax, y_train)\n",
    "svm_pred_minmax = svm_model_minmax.predict(X_test_minmax)\n",
    "accuracy_svm_minmax = accuracy_score(y_test, svm_pred_minmax)\n",
    "\n",
    "# Tampilkan akurasi SVM\n",
    "print(f\"Akurasi SVM dengan Z-Score: {accuracy_svm_zscore * 100:.2f}%\")\n",
    "print(f\"Akurasi SVM dengan MinMax: {accuracy_svm_minmax * 100:.2f}%\")"
   ]
  },
  {
   "cell_type": "markdown",
   "metadata": {},
   "source": [
    "### Naive Bayes\n",
    "Naive Bayes adalah algoritma klasifikasi probabilistik yang berdasarkan teorema Bayes dengan asumsi bahwa fitur-fitur yang digunakan untuk menggambarkan instance adalah independen satu sama lain. Naive Bayes mengasumsikan bahwa keberadaan suatu fitur dalam suatu kelas tidak terkait dengan keberadaan fitur lainnya.\n",
    "\n",
    "Rumus dasar teorema bayes :\n",
    "\n",
    "$P(y|X) = \\frac{(P(y|X).P(y)}{P(X)}$\n",
    "\n",
    "Langkah-langkah :\n",
    "\n",
    "   1. Inisialisasi model \n",
    "   \n",
    "        Tiga jenis utama Naive Bayes adalah:\n",
    "        \n",
    "        1.) Gaussian Naive Bayes: Cocok untuk data yang terdistribusi normal.\n",
    "        \n",
    "        2.) Multinomial Naive Bayes: Cocok untuk data yang terdistribusi multinomial, seperti teks.\n",
    "        \n",
    "        3.) Bernoulli Naive Bayes: Cocok untuk data biner (0 atau 1).\n",
    "        \n",
    "       Jika pada pengolahan data terdapat 2 normalisasi, maka ketike melakukan inisialisasi model juga melakukan 2 kali dengan menggunakan fungsi distribusi gaussian.\n",
    "\n",
    "   2. Pelatihan model\n",
    "   \n",
    "   - Menghitung probabilitas prior untuk setiap kelas dan probabilitas kondisional untuk setiap fitur yang diberikan kelas.\n",
    "   - Karena dalam data ini menggunakan 2 normalisasi, sehingga untuk melakukan perhitungan akurasi dengan model naive bayes juga diperlukan 2 data pelatihan yang berbeda. \n",
    "    - Data pelatihan (X_train_standard, y_train) digunakan untuk melatih model Naive Bayes dengan Z-Score.\n",
    "    - Data pelatihan (X_train_minmax, y_train) digunakan untuk melatih model Naive Bayes dengan MinMax.\n",
    "    \n",
    "   3. Prediksi\n",
    "       Untuk mendapatkan nilai prediksi, menggunakan kembali model yang telah dilatih untuk memprediksi kelas baru berdasarkan nilai fitur yang diberikan.\n",
    "        Model yang telah dilatih, digunakan untuk membuat prediksi pada data pengujian. Kemudian dalam melakukan prediksi menggunakan fungsi .predic pada pengujian X_test_standard dan X_test minmmax.\n",
    "    \n",
    "   4. Perhitungan akurasi\n",
    "       Menghitung akurasi dari prediksi Naive Bayes dengan Z-Score dan MinMax.\n",
    "        Akurasi diukur menggunakan fungsi 'accuracy_score' dari sklearn.\n",
    "    \n"
   ]
  },
  {
   "cell_type": "code",
   "execution_count": 51,
   "metadata": {},
   "outputs": [
    {
     "name": "stdout",
     "output_type": "stream",
     "text": [
      "Akurasi Naive Bayes dengan Z-Score: 79.34%\n",
      "Akurasi Naive Bayes dengan MinMax: 79.34%\n"
     ]
    }
   ],
   "source": [
    "# Naive Bayes dengan Z-Score\n",
    "nb_model_zscore = GaussianNB()\n",
    "nb_model_zscore.fit(X_train_standard, y_train)\n",
    "nb_pred_zscore = nb_model_zscore.predict(X_test_standard)\n",
    "accuracy_nb_zscore = accuracy_score(y_test, nb_pred_zscore)\n",
    "\n",
    "# Naive Bayes dengan MinMax\n",
    "nb_model_minmax = GaussianNB()\n",
    "nb_model_minmax.fit(X_train_minmax, y_train)\n",
    "nb_pred_minmax = nb_model_minmax.predict(X_test_minmax)\n",
    "accuracy_nb_minmax = accuracy_score(y_test, nb_pred_minmax)\n",
    "\n",
    "# Tampilkan akurasi Naive Bayes\n",
    "print(f\"Akurasi Naive Bayes dengan Z-Score: {accuracy_nb_zscore * 100:.2f}%\")\n",
    "print(f\"Akurasi Naive Bayes dengan MinMax: {accuracy_nb_minmax * 100:.2f}%\")\n"
   ]
  },
  {
   "cell_type": "markdown",
   "metadata": {},
   "source": [
    "### Mendapatkan Model Terbaik\n",
    "\n",
    "Setelah melakukan permodelan , untuk mendapatkan model yang terbaik untuk pengolahan data ini."
   ]
  },
  {
   "cell_type": "code",
   "execution_count": 56,
   "metadata": {},
   "outputs": [
    {
     "data": {
      "image/png": "[encoded data removed]",
      "text/plain": [
       "<Figure size 864x432 with 1 Axes>"
      ]
     },
     "metadata": {
      "needs_background": "light"
     },
     "output_type": "display_data"
    }
   ],
   "source": [
    "import matplotlib.pyplot as plt\n",
    "\n",
    "# List untuk menyimpan hasil akurasi\n",
    "models = [\n",
    "          'Random Forest',\n",
    "          'Decision Tree',\n",
    "          'SVM (Zscore)',\n",
    "          'SVM (Minmax)',\n",
    "          'Logistic Regression Z-Score',\n",
    "          'Logistic Regression (MinMax)',\n",
    "          'Naive Bayes (Z-Score)',\n",
    "          'Naive Bayes (MinMax)']\n",
    "accuracies = [\n",
    "              best_accuracy_rf,\n",
    "              best_accuracy_dt,\n",
    "              accuracy_svm_zscore,\n",
    "              accuracy_svm_minmax,\n",
    "              lr_accuracy,\n",
    "              lr_accuracy2,\n",
    "              accuracy_nb_zscore,\n",
    "              accuracy_nb_minmax]\n",
    "# accuracies = [lr_accuracy, lr_accuracy2, accuracy_svm_zscore, accuracy_svm_minmax, best_accuracy_rf, best_accuracy_dt, accuracy_nb_zscore, accuracy_nb_minmax]\n",
    "\n",
    "# Membuat grafik batang\n",
    "plt.figure(figsize=(12, 6))\n",
    "plt.bar(models, accuracies, color=['blue', 'orange', 'purple', 'yellow', 'grey', 'pink'])\n",
    "plt.ylim(0, 1)  # Sesuaikan dengan rentang akurasi (0-1)\n",
    "plt.title('Perbandingan Akurasi Model')\n",
    "plt.xlabel('Model')\n",
    "plt.ylabel('Akurasi')\n",
    "plt.xticks(rotation=45, ha='right')  # Rotasi label x-axis agar lebih mudah dibaca\n",
    "plt.show()\n"
   ]
  },
  {
   "cell_type": "markdown",
   "metadata": {
    "id": "FWXTx1l2jRmu"
   },
   "source": [
    "## 4. Evaluasi Model\n",
    "Evaluasi model  dilakukan untuk mengukur seberapa baik model dapat melakukan prediksi atau klasifikasi. Evaluasi untuk mengukur performa model pada klasifikasi meliputi akurasi, F_1 Score, Precission, dan Recall. Evaluasi model bisa ditampilkan melalui tabel confussion matrix untuk mengukur kinerja metode permodelan tersebut dalam mengetahui seberapa banyak model mampu melakukan prediksi dengan benar dan salah pada total keseluruhan dataset. \n",
    "\n",
    "Salah satu cara untuk menyajikan evaluasi model secara menyeluruh adalah dengan Confussion Matrix. Dalam konteks Confusion Matrix, dengan mengidentifikasi True Positive (TP), True Negative (TN), False Positive (FP), dan False Negative (FN) berdasarkan posisi elemen-elemen dalam matriks.Elemen-elemen dalam matriks ini memberikan gambaran tentang seberapa baik model dapat mengenali kelas positif dan negatif, serta seberapa sering model memberikan prediksi yang benar atau salah.\n",
    "\n",
    "\n",
    "$$\n",
    "\\begin{bmatrix}\n",
    "TN \\ \\ \\ FP\\\\\n",
    "FN \\ \\ \\ TP\n",
    "\\end{bmatrix}\n",
    "$$\n",
    "\n",
    "\n",
    "Berikut adalah definisi dari setiap elemen:\n",
    "\n",
    "- True Positive (TP): Jumlah sampel positif yang diprediksi dengan benar.\n",
    "- True Negative (TN): Jumlah sampel negatif yang diprediksi dengan benar.\n",
    "- False Positive (FP): Jumlah sampel negatif yang salah diprediksi sebagai positif.\n",
    "- False Negative (FN): Jumlah sampel positif yang salah diprediksi sebagai negatif.\n",
    "\n",
    "\n",
    "### 1. Akurasi (Accuracy)\n",
    "\n",
    "$Accuracy = \\frac{TP+TN}{TP+TN+FP+FN}$\n",
    "\n",
    "Akurasi adalah rasio prediksi benar (positif dan negatif) atau True Positif dan True Negative dibandingkan dengan total data.\n",
    "### 2. Precission\n",
    "\n",
    "$Precision = \\frac{TP}{TP+FP}$\n",
    "\n",
    "Presisi mendefinisikan rasio dari data bernilai  positif benar (True Positive)  terhadap jumlah positif benar(True Positive) dan positif salah (False Positive)\n",
    "\n",
    "### 3. Recall\n",
    "\n",
    "$Recall = \\frac{TP}{TP+FN}$\n",
    "\n",
    "Recall merupakan rasio prediksi benar positif dibandingkan dengan keseluruhan data yang benar-benar positif.\n",
    "\n",
    "### 4. Support\n",
    "\n",
    "$Support = TP+FN$\n",
    "\n",
    "Support adalah jumlah aktual data yang termasuk dalam setiap kelas. Semakin tinggi nilai Support, semakin banyak sampel aktual yang termasuk dalam kelas tersebut.\n",
    "\n",
    "### 5. F1- Score\n",
    "\n",
    "$F1-Score = \\frac{2.TP}{2.TP+FP+FN}$\n",
    "\n",
    "F1 adalah perbandingan rata-rata precsision dan recall\n",
    "\n",
    "### Classification Report"
   ]
  },
  {
   "cell_type": "markdown",
   "metadata": {},
   "source": [
    "Mencetak Classification Report ke layar, yang berisi informasi tentang precision, recall, F1-score, dan metrik-metrik evaluasi lainnya untuk setiap kelas yang ada dalam data."
   ]
  },
  {
   "cell_type": "markdown",
   "metadata": {},
   "source": [
    "**1. Random Forest**"
   ]
  },
  {
   "cell_type": "code",
   "execution_count": 47,
   "metadata": {},
   "outputs": [],
   "source": [
    "from sklearn.metrics import confusion_matrix,classification_report\n",
    "import seaborn as sns"
   ]
  },
  {
   "cell_type": "code",
   "execution_count": 49,
   "metadata": {
    "scrolled": true
   },
   "outputs": [
    {
     "data": {
      "image/png": "[encoded data removed]",
      "text/plain": [
       "<Figure size 576x432 with 2 Axes>"
      ]
     },
     "metadata": {
      "needs_background": "light"
     },
     "output_type": "display_data"
    }
   ],
   "source": [
    "# Prediksi menggunakan model terbaik\n",
    "best_rf_pred = best_rf_model.predict(X_test_minmax)  # Gunakan salah satu skala,  Z-Score\n",
    "\n",
    "# Matriks Konfusi\n",
    "conf_matrix = confusion_matrix(y_test, best_rf_pred)\n",
    "\n",
    "# Visualisasi dengan Heatmap\n",
    "plt.figure(figsize=(8, 6))\n",
    "sns.heatmap(conf_matrix, annot=True, fmt='d', cmap='Blues', xticklabels=label_encoder.classes_, yticklabels=label_encoder.classes_)\n",
    "plt.title('Confusion Matrix Random Forest')\n",
    "plt.xlabel('Prediksi')\n",
    "plt.ylabel('Aktual')\n",
    "plt.show()\n"
   ]
  },
  {
   "cell_type": "code",
   "execution_count": 58,
   "metadata": {
    "scrolled": true
   },
   "outputs": [
    {
     "name": "stdout",
     "output_type": "stream",
     "text": [
      "True Negative (TN): 7434\n",
      "False Positive (FP): 4\n",
      "False Negative (FN): 0\n",
      "True Positive (TP): 7443\n"
     ]
    }
   ],
   "source": [
    "# Matriks Konfusi\n",
    "conf_matrix = confusion_matrix(y_test, best_rf_pred)\n",
    "\n",
    "# Mendapatkan nilai TN, FN, dan FP\n",
    "\n",
    "TN = conf_matrix[0, 0]\n",
    "FP = conf_matrix[0, 1]\n",
    "FN = conf_matrix[1, 0]\n",
    "TP = conf_matrix[1, 1]\n",
    "\n",
    "print(\"True Negative (TN):\", TN)\n",
    "print(\"False Positive (FP):\", FP)\n",
    "print(\"False Negative (FN):\", FN)\n",
    "print(\"True Positive (TP):\", TP)"
   ]
  },
  {
   "cell_type": "code",
   "execution_count": 59,
   "metadata": {},
   "outputs": [
    {
     "name": "stderr",
     "output_type": "stream",
     "text": [
      "C:\\Users\\ASUS\\anaconda3\\lib\\site-packages\\sklearn\\base.py:432: UserWarning: X has feature names, but RandomForestClassifier was fitted without feature names\n",
      "  warnings.warn(\n",
      "C:\\Users\\ASUS\\anaconda3\\lib\\site-packages\\sklearn\\metrics\\_classification.py:1344: UndefinedMetricWarning: Precision and F-score are ill-defined and being set to 0.0 in labels with no predicted samples. Use `zero_division` parameter to control this behavior.\n",
      "  _warn_prf(average, modifier, msg_start, len(result))\n"
     ]
    },
    {
     "name": "stdout",
     "output_type": "stream",
     "text": [
      "Classification Report:\n",
      "              precision    recall  f1-score   support\n",
      "\n",
      "       allow       0.88      0.99      0.93      7438\n",
      "        deny       0.35      1.00      0.51      7451\n",
      "        drop       0.00      0.00      0.00      7523\n",
      "  reset-both       0.00      0.00      0.00      7540\n",
      "\n",
      "    accuracy                           0.50     29952\n",
      "   macro avg       0.31      0.50      0.36     29952\n",
      "weighted avg       0.30      0.50      0.36     29952\n",
      "\n"
     ]
    },
    {
     "name": "stderr",
     "output_type": "stream",
     "text": [
      "C:\\Users\\ASUS\\anaconda3\\lib\\site-packages\\sklearn\\metrics\\_classification.py:1344: UndefinedMetricWarning: Precision and F-score are ill-defined and being set to 0.0 in labels with no predicted samples. Use `zero_division` parameter to control this behavior.\n",
      "  _warn_prf(average, modifier, msg_start, len(result))\n",
      "C:\\Users\\ASUS\\anaconda3\\lib\\site-packages\\sklearn\\metrics\\_classification.py:1344: UndefinedMetricWarning: Precision and F-score are ill-defined and being set to 0.0 in labels with no predicted samples. Use `zero_division` parameter to control this behavior.\n",
      "  _warn_prf(average, modifier, msg_start, len(result))\n"
     ]
    }
   ],
   "source": [
    "# Prediksi dengan model terbaik\n",
    "best_rf_pred = best_rf_model.predict(X_test)\n",
    "\n",
    "# Evaluasi dengan precision, recall, dan F1-score\n",
    "classification_rep = classification_report(y_test, best_rf_pred)\n",
    "print(\"Classification Report:\")\n",
    "print(classification_rep)"
   ]
  },
  {
   "cell_type": "markdown",
   "metadata": {
    "id": "YQq1zxUvnMvt"
   },
   "source": [
    "## Deployment"
   ]
  },
  {
   "cell_type": "markdown",
   "metadata": {
    "id": "o2zl1u2NnQHn"
   },
   "source": [
    "Pada tahap deployment, menggunakan streamlit dengan file yang berekstensi **.py** . File yang dilakukan pengolahan yaitu sebagai berikut :\n",
    "- model normalisasi ZSCore yang disimpan dalam file pickle\n",
    "- model normalisasi MinMax yang disimpan dalam file pickle\n",
    "- model dengan algoritma terbaik pada pengolahan data ini yaitu Decission Tree"
   ]
  }
 ],
 "metadata": {
  "colab": {
   "collapsed_sections": [
    "vI8SB2DeAFgv",
    "jIqcO-KEZWFQ",
    "GS8HUYFssRNf",
    "p9WnbjAzrQaR",
    "GDHdafBWtTi7",
    "h9N7OyTPwlzG",
    "QRdVPUvFEEXQ",
    "PtmRO7-AtZJ8"
   ],
   "provenance": []
  },
  "kernelspec": {
   "display_name": "Python 3 (ipykernel)",
   "language": "python",
   "name": "python3"
  },
  "language_info": {
   "codemirror_mode": {
    "name": "ipython",
    "version": 3
   },
   "file_extension": ".py",
   "mimetype": "text/x-python",
   "name": "python",
   "nbconvert_exporter": "python",
   "pygments_lexer": "ipython3",
   "version": "3.9.7"
  }
 },
 "nbformat": 4,
 "nbformat_minor": 1
}
